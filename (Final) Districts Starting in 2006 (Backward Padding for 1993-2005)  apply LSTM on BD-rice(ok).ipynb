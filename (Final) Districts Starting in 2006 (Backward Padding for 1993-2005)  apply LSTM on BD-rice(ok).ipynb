{
 "cells": [
  {
   "cell_type": "code",
   "execution_count": 175,
   "id": "a21ea15a-b5e9-4d41-888b-cf461cef6577",
   "metadata": {},
   "outputs": [],
   "source": [
    "from math import sqrt\n",
    "from numpy import concatenate\n",
    "from matplotlib import pyplot\n",
    "from pandas import read_csv\n",
    "from pandas import DataFrame\n",
    "from pandas import DataFrame, concat\n",
    "import pandas as pd\n",
    "from pandas import concat\n",
    "from sklearn.preprocessing import MinMaxScaler\n",
    "from sklearn.preprocessing import LabelEncoder\n",
    "from sklearn.metrics import mean_squared_error\n",
    "from tensorflow.keras.models import Sequential\n",
    "from tensorflow.keras.layers import LSTM, Dense\n",
    "from keras.models import Sequential\n",
    "from keras.layers import LSTM, Dense\n",
    "from keras.layers import Dense\n",
    "from keras.layers import LSTM\n",
    "import numpy as np\n",
    "import matplotlib.pyplot as plt\n",
    "import seaborn as sns\n",
    "sns.set()\n",
    "\n"
   ]
  },
  {
   "cell_type": "code",
   "execution_count": 176,
   "id": "d3fc8cee-51ca-4fdb-ac1d-5e71d5636123",
   "metadata": {},
   "outputs": [],
   "source": [
    "file_path = r'D:\\project-rice-yield-prediction\\datasets and notes\\BD-rice(ok).xlsx'\n",
    "df= pd.read_excel(file_path,sheet_name='Aman',skiprows=1)"
   ]
  },
  {
   "cell_type": "code",
   "execution_count": 177,
   "id": "c96f4964-90dc-47c6-94f3-dc9678ee93fe",
   "metadata": {},
   "outputs": [
    {
     "data": {
      "text/html": [
       "<div>\n",
       "<style scoped>\n",
       "    .dataframe tbody tr th:only-of-type {\n",
       "        vertical-align: middle;\n",
       "    }\n",
       "\n",
       "    .dataframe tbody tr th {\n",
       "        vertical-align: top;\n",
       "    }\n",
       "\n",
       "    .dataframe thead th {\n",
       "        text-align: right;\n",
       "    }\n",
       "</style>\n",
       "<table border=\"1\" class=\"dataframe\">\n",
       "  <thead>\n",
       "    <tr style=\"text-align: right;\">\n",
       "      <th></th>\n",
       "      <th>rice</th>\n",
       "      <th>year</th>\n",
       "      <th>district</th>\n",
       "      <th>weather district</th>\n",
       "      <th>division</th>\n",
       "      <th>yield</th>\n",
       "      <th>precip_1</th>\n",
       "      <th>precip_2</th>\n",
       "      <th>precip_5</th>\n",
       "      <th>precip_6</th>\n",
       "      <th>temp_1</th>\n",
       "      <th>temp_2</th>\n",
       "      <th>temp_5</th>\n",
       "      <th>temp_6</th>\n",
       "    </tr>\n",
       "  </thead>\n",
       "  <tbody>\n",
       "    <tr>\n",
       "      <th>0</th>\n",
       "      <td>Aman</td>\n",
       "      <td>2006</td>\n",
       "      <td>Bagerhat</td>\n",
       "      <td>Khulna</td>\n",
       "      <td>Khulna</td>\n",
       "      <td>0.728570</td>\n",
       "      <td>16.838710</td>\n",
       "      <td>11.741935</td>\n",
       "      <td>0.033333</td>\n",
       "      <td>0.000000</td>\n",
       "      <td>28.9</td>\n",
       "      <td>28.7</td>\n",
       "      <td>24.1</td>\n",
       "      <td>20.2</td>\n",
       "    </tr>\n",
       "    <tr>\n",
       "      <th>1</th>\n",
       "      <td>Aman</td>\n",
       "      <td>2007</td>\n",
       "      <td>Bagerhat</td>\n",
       "      <td>Khulna</td>\n",
       "      <td>Khulna</td>\n",
       "      <td>0.522331</td>\n",
       "      <td>19.064516</td>\n",
       "      <td>5.161290</td>\n",
       "      <td>3.766667</td>\n",
       "      <td>0.000000</td>\n",
       "      <td>28.6</td>\n",
       "      <td>29.3</td>\n",
       "      <td>24.2</td>\n",
       "      <td>19.1</td>\n",
       "    </tr>\n",
       "    <tr>\n",
       "      <th>2</th>\n",
       "      <td>Aman</td>\n",
       "      <td>2008</td>\n",
       "      <td>Bagerhat</td>\n",
       "      <td>Khulna</td>\n",
       "      <td>Khulna</td>\n",
       "      <td>0.663455</td>\n",
       "      <td>9.709677</td>\n",
       "      <td>6.516129</td>\n",
       "      <td>0.000000</td>\n",
       "      <td>0.000000</td>\n",
       "      <td>28.5</td>\n",
       "      <td>29.0</td>\n",
       "      <td>24.1</td>\n",
       "      <td>20.6</td>\n",
       "    </tr>\n",
       "    <tr>\n",
       "      <th>3</th>\n",
       "      <td>Aman</td>\n",
       "      <td>2009</td>\n",
       "      <td>Bagerhat</td>\n",
       "      <td>Khulna</td>\n",
       "      <td>Khulna</td>\n",
       "      <td>0.769729</td>\n",
       "      <td>11.193548</td>\n",
       "      <td>18.322581</td>\n",
       "      <td>0.666667</td>\n",
       "      <td>0.000000</td>\n",
       "      <td>29.0</td>\n",
       "      <td>29.0</td>\n",
       "      <td>24.5</td>\n",
       "      <td>19.3</td>\n",
       "    </tr>\n",
       "    <tr>\n",
       "      <th>4</th>\n",
       "      <td>Aman</td>\n",
       "      <td>2010</td>\n",
       "      <td>Bagerhat</td>\n",
       "      <td>Khulna</td>\n",
       "      <td>Khulna</td>\n",
       "      <td>0.710355</td>\n",
       "      <td>5.806452</td>\n",
       "      <td>6.612903</td>\n",
       "      <td>0.000000</td>\n",
       "      <td>0.419355</td>\n",
       "      <td>29.6</td>\n",
       "      <td>29.7</td>\n",
       "      <td>25.1</td>\n",
       "      <td>19.3</td>\n",
       "    </tr>\n",
       "    <tr>\n",
       "      <th>...</th>\n",
       "      <td>...</td>\n",
       "      <td>...</td>\n",
       "      <td>...</td>\n",
       "      <td>...</td>\n",
       "      <td>...</td>\n",
       "      <td>...</td>\n",
       "      <td>...</td>\n",
       "      <td>...</td>\n",
       "      <td>...</td>\n",
       "      <td>...</td>\n",
       "      <td>...</td>\n",
       "      <td>...</td>\n",
       "      <td>...</td>\n",
       "      <td>...</td>\n",
       "    </tr>\n",
       "    <tr>\n",
       "      <th>1318</th>\n",
       "      <td>Aman</td>\n",
       "      <td>2017</td>\n",
       "      <td>Thakurgaon</td>\n",
       "      <td>Dinajpur</td>\n",
       "      <td>Rangpur</td>\n",
       "      <td>1.138931</td>\n",
       "      <td>6.290323</td>\n",
       "      <td>21.129032</td>\n",
       "      <td>0.000000</td>\n",
       "      <td>0.000000</td>\n",
       "      <td>29.3</td>\n",
       "      <td>29.6</td>\n",
       "      <td>22.1</td>\n",
       "      <td>19.2</td>\n",
       "    </tr>\n",
       "    <tr>\n",
       "      <th>1319</th>\n",
       "      <td>Aman</td>\n",
       "      <td>2018</td>\n",
       "      <td>Thakurgaon</td>\n",
       "      <td>Dinajpur</td>\n",
       "      <td>Rangpur</td>\n",
       "      <td>1.159884</td>\n",
       "      <td>5.322581</td>\n",
       "      <td>5.290323</td>\n",
       "      <td>0.000000</td>\n",
       "      <td>0.322581</td>\n",
       "      <td>29.9</td>\n",
       "      <td>30.1</td>\n",
       "      <td>21.8</td>\n",
       "      <td>17.3</td>\n",
       "    </tr>\n",
       "    <tr>\n",
       "      <th>1320</th>\n",
       "      <td>Aman</td>\n",
       "      <td>2019</td>\n",
       "      <td>Thakurgaon</td>\n",
       "      <td>Dinajpur</td>\n",
       "      <td>Rangpur</td>\n",
       "      <td>1.170860</td>\n",
       "      <td>21.935484</td>\n",
       "      <td>10.580645</td>\n",
       "      <td>0.000000</td>\n",
       "      <td>0.000000</td>\n",
       "      <td>29.4</td>\n",
       "      <td>30.4</td>\n",
       "      <td>23.2</td>\n",
       "      <td>16.5</td>\n",
       "    </tr>\n",
       "    <tr>\n",
       "      <th>1321</th>\n",
       "      <td>Aman</td>\n",
       "      <td>2020</td>\n",
       "      <td>Thakurgaon</td>\n",
       "      <td>Dinajpur</td>\n",
       "      <td>Rangpur</td>\n",
       "      <td>1.083696</td>\n",
       "      <td>19.935484</td>\n",
       "      <td>10.258065</td>\n",
       "      <td>0.100000</td>\n",
       "      <td>0.000000</td>\n",
       "      <td>28.9</td>\n",
       "      <td>30.2</td>\n",
       "      <td>22.0</td>\n",
       "      <td>17.7</td>\n",
       "    </tr>\n",
       "    <tr>\n",
       "      <th>1322</th>\n",
       "      <td>Aman</td>\n",
       "      <td>2021</td>\n",
       "      <td>Thakurgaon</td>\n",
       "      <td>Dinajpur</td>\n",
       "      <td>Rangpur</td>\n",
       "      <td>1.163123</td>\n",
       "      <td>5.806452</td>\n",
       "      <td>13.129032</td>\n",
       "      <td>0.000000</td>\n",
       "      <td>0.161290</td>\n",
       "      <td>29.9</td>\n",
       "      <td>29.2</td>\n",
       "      <td>22.1</td>\n",
       "      <td>18.9</td>\n",
       "    </tr>\n",
       "  </tbody>\n",
       "</table>\n",
       "<p>1323 rows × 14 columns</p>\n",
       "</div>"
      ],
      "text/plain": [
       "      rice  year    district weather district division     yield   precip_1  \\\n",
       "0     Aman  2006    Bagerhat           Khulna   Khulna  0.728570  16.838710   \n",
       "1     Aman  2007    Bagerhat           Khulna   Khulna  0.522331  19.064516   \n",
       "2     Aman  2008    Bagerhat           Khulna   Khulna  0.663455   9.709677   \n",
       "3     Aman  2009    Bagerhat           Khulna   Khulna  0.769729  11.193548   \n",
       "4     Aman  2010    Bagerhat           Khulna   Khulna  0.710355   5.806452   \n",
       "...    ...   ...         ...              ...      ...       ...        ...   \n",
       "1318  Aman  2017  Thakurgaon         Dinajpur  Rangpur  1.138931   6.290323   \n",
       "1319  Aman  2018  Thakurgaon         Dinajpur  Rangpur  1.159884   5.322581   \n",
       "1320  Aman  2019  Thakurgaon         Dinajpur  Rangpur  1.170860  21.935484   \n",
       "1321  Aman  2020  Thakurgaon         Dinajpur  Rangpur  1.083696  19.935484   \n",
       "1322  Aman  2021  Thakurgaon         Dinajpur  Rangpur  1.163123   5.806452   \n",
       "\n",
       "       precip_2  precip_5  precip_6  temp_1  temp_2  temp_5  temp_6  \n",
       "0     11.741935  0.033333  0.000000    28.9    28.7    24.1    20.2  \n",
       "1      5.161290  3.766667  0.000000    28.6    29.3    24.2    19.1  \n",
       "2      6.516129  0.000000  0.000000    28.5    29.0    24.1    20.6  \n",
       "3     18.322581  0.666667  0.000000    29.0    29.0    24.5    19.3  \n",
       "4      6.612903  0.000000  0.419355    29.6    29.7    25.1    19.3  \n",
       "...         ...       ...       ...     ...     ...     ...     ...  \n",
       "1318  21.129032  0.000000  0.000000    29.3    29.6    22.1    19.2  \n",
       "1319   5.290323  0.000000  0.322581    29.9    30.1    21.8    17.3  \n",
       "1320  10.580645  0.000000  0.000000    29.4    30.4    23.2    16.5  \n",
       "1321  10.258065  0.100000  0.000000    28.9    30.2    22.0    17.7  \n",
       "1322  13.129032  0.000000  0.161290    29.9    29.2    22.1    18.9  \n",
       "\n",
       "[1323 rows x 14 columns]"
      ]
     },
     "execution_count": 177,
     "metadata": {},
     "output_type": "execute_result"
    }
   ],
   "source": [
    "df"
   ]
  },
  {
   "cell_type": "code",
   "execution_count": 178,
   "id": "f5d491f3-3a4e-4faf-8aa4-ac113d9862a4",
   "metadata": {},
   "outputs": [],
   "source": [
    "# Filter out the yield data\n",
    "data = df[df['yield'].notnull()]"
   ]
  },
  {
   "cell_type": "code",
   "execution_count": 131,
   "id": "8394b5f3-c896-4d66-9da9-eba4db62b7fe",
   "metadata": {},
   "outputs": [
    {
     "data": {
      "text/html": [
       "<div>\n",
       "<style scoped>\n",
       "    .dataframe tbody tr th:only-of-type {\n",
       "        vertical-align: middle;\n",
       "    }\n",
       "\n",
       "    .dataframe tbody tr th {\n",
       "        vertical-align: top;\n",
       "    }\n",
       "\n",
       "    .dataframe thead th {\n",
       "        text-align: right;\n",
       "    }\n",
       "</style>\n",
       "<table border=\"1\" class=\"dataframe\">\n",
       "  <thead>\n",
       "    <tr style=\"text-align: right;\">\n",
       "      <th></th>\n",
       "      <th>rice</th>\n",
       "      <th>year</th>\n",
       "      <th>district</th>\n",
       "      <th>weather district</th>\n",
       "      <th>division</th>\n",
       "      <th>yield</th>\n",
       "      <th>precip_1</th>\n",
       "      <th>precip_2</th>\n",
       "      <th>precip_5</th>\n",
       "      <th>precip_6</th>\n",
       "      <th>temp_1</th>\n",
       "      <th>temp_2</th>\n",
       "      <th>temp_5</th>\n",
       "      <th>temp_6</th>\n",
       "    </tr>\n",
       "  </thead>\n",
       "  <tbody>\n",
       "    <tr>\n",
       "      <th>0</th>\n",
       "      <td>Aman</td>\n",
       "      <td>2006</td>\n",
       "      <td>Bagerhat</td>\n",
       "      <td>Khulna</td>\n",
       "      <td>Khulna</td>\n",
       "      <td>0.728570</td>\n",
       "      <td>16.838710</td>\n",
       "      <td>11.741935</td>\n",
       "      <td>0.033333</td>\n",
       "      <td>0.000000</td>\n",
       "      <td>28.9</td>\n",
       "      <td>28.7</td>\n",
       "      <td>24.1</td>\n",
       "      <td>20.2</td>\n",
       "    </tr>\n",
       "    <tr>\n",
       "      <th>1</th>\n",
       "      <td>Aman</td>\n",
       "      <td>2007</td>\n",
       "      <td>Bagerhat</td>\n",
       "      <td>Khulna</td>\n",
       "      <td>Khulna</td>\n",
       "      <td>0.522331</td>\n",
       "      <td>19.064516</td>\n",
       "      <td>5.161290</td>\n",
       "      <td>3.766667</td>\n",
       "      <td>0.000000</td>\n",
       "      <td>28.6</td>\n",
       "      <td>29.3</td>\n",
       "      <td>24.2</td>\n",
       "      <td>19.1</td>\n",
       "    </tr>\n",
       "    <tr>\n",
       "      <th>2</th>\n",
       "      <td>Aman</td>\n",
       "      <td>2008</td>\n",
       "      <td>Bagerhat</td>\n",
       "      <td>Khulna</td>\n",
       "      <td>Khulna</td>\n",
       "      <td>0.663455</td>\n",
       "      <td>9.709677</td>\n",
       "      <td>6.516129</td>\n",
       "      <td>0.000000</td>\n",
       "      <td>0.000000</td>\n",
       "      <td>28.5</td>\n",
       "      <td>29.0</td>\n",
       "      <td>24.1</td>\n",
       "      <td>20.6</td>\n",
       "    </tr>\n",
       "    <tr>\n",
       "      <th>3</th>\n",
       "      <td>Aman</td>\n",
       "      <td>2009</td>\n",
       "      <td>Bagerhat</td>\n",
       "      <td>Khulna</td>\n",
       "      <td>Khulna</td>\n",
       "      <td>0.769729</td>\n",
       "      <td>11.193548</td>\n",
       "      <td>18.322581</td>\n",
       "      <td>0.666667</td>\n",
       "      <td>0.000000</td>\n",
       "      <td>29.0</td>\n",
       "      <td>29.0</td>\n",
       "      <td>24.5</td>\n",
       "      <td>19.3</td>\n",
       "    </tr>\n",
       "    <tr>\n",
       "      <th>4</th>\n",
       "      <td>Aman</td>\n",
       "      <td>2010</td>\n",
       "      <td>Bagerhat</td>\n",
       "      <td>Khulna</td>\n",
       "      <td>Khulna</td>\n",
       "      <td>0.710355</td>\n",
       "      <td>5.806452</td>\n",
       "      <td>6.612903</td>\n",
       "      <td>0.000000</td>\n",
       "      <td>0.419355</td>\n",
       "      <td>29.6</td>\n",
       "      <td>29.7</td>\n",
       "      <td>25.1</td>\n",
       "      <td>19.3</td>\n",
       "    </tr>\n",
       "    <tr>\n",
       "      <th>...</th>\n",
       "      <td>...</td>\n",
       "      <td>...</td>\n",
       "      <td>...</td>\n",
       "      <td>...</td>\n",
       "      <td>...</td>\n",
       "      <td>...</td>\n",
       "      <td>...</td>\n",
       "      <td>...</td>\n",
       "      <td>...</td>\n",
       "      <td>...</td>\n",
       "      <td>...</td>\n",
       "      <td>...</td>\n",
       "      <td>...</td>\n",
       "      <td>...</td>\n",
       "    </tr>\n",
       "    <tr>\n",
       "      <th>1318</th>\n",
       "      <td>Aman</td>\n",
       "      <td>2017</td>\n",
       "      <td>Thakurgaon</td>\n",
       "      <td>Dinajpur</td>\n",
       "      <td>Rangpur</td>\n",
       "      <td>1.138931</td>\n",
       "      <td>6.290323</td>\n",
       "      <td>21.129032</td>\n",
       "      <td>0.000000</td>\n",
       "      <td>0.000000</td>\n",
       "      <td>29.3</td>\n",
       "      <td>29.6</td>\n",
       "      <td>22.1</td>\n",
       "      <td>19.2</td>\n",
       "    </tr>\n",
       "    <tr>\n",
       "      <th>1319</th>\n",
       "      <td>Aman</td>\n",
       "      <td>2018</td>\n",
       "      <td>Thakurgaon</td>\n",
       "      <td>Dinajpur</td>\n",
       "      <td>Rangpur</td>\n",
       "      <td>1.159884</td>\n",
       "      <td>5.322581</td>\n",
       "      <td>5.290323</td>\n",
       "      <td>0.000000</td>\n",
       "      <td>0.322581</td>\n",
       "      <td>29.9</td>\n",
       "      <td>30.1</td>\n",
       "      <td>21.8</td>\n",
       "      <td>17.3</td>\n",
       "    </tr>\n",
       "    <tr>\n",
       "      <th>1320</th>\n",
       "      <td>Aman</td>\n",
       "      <td>2019</td>\n",
       "      <td>Thakurgaon</td>\n",
       "      <td>Dinajpur</td>\n",
       "      <td>Rangpur</td>\n",
       "      <td>1.170860</td>\n",
       "      <td>21.935484</td>\n",
       "      <td>10.580645</td>\n",
       "      <td>0.000000</td>\n",
       "      <td>0.000000</td>\n",
       "      <td>29.4</td>\n",
       "      <td>30.4</td>\n",
       "      <td>23.2</td>\n",
       "      <td>16.5</td>\n",
       "    </tr>\n",
       "    <tr>\n",
       "      <th>1321</th>\n",
       "      <td>Aman</td>\n",
       "      <td>2020</td>\n",
       "      <td>Thakurgaon</td>\n",
       "      <td>Dinajpur</td>\n",
       "      <td>Rangpur</td>\n",
       "      <td>1.083696</td>\n",
       "      <td>19.935484</td>\n",
       "      <td>10.258065</td>\n",
       "      <td>0.100000</td>\n",
       "      <td>0.000000</td>\n",
       "      <td>28.9</td>\n",
       "      <td>30.2</td>\n",
       "      <td>22.0</td>\n",
       "      <td>17.7</td>\n",
       "    </tr>\n",
       "    <tr>\n",
       "      <th>1322</th>\n",
       "      <td>Aman</td>\n",
       "      <td>2021</td>\n",
       "      <td>Thakurgaon</td>\n",
       "      <td>Dinajpur</td>\n",
       "      <td>Rangpur</td>\n",
       "      <td>1.163123</td>\n",
       "      <td>5.806452</td>\n",
       "      <td>13.129032</td>\n",
       "      <td>0.000000</td>\n",
       "      <td>0.161290</td>\n",
       "      <td>29.9</td>\n",
       "      <td>29.2</td>\n",
       "      <td>22.1</td>\n",
       "      <td>18.9</td>\n",
       "    </tr>\n",
       "  </tbody>\n",
       "</table>\n",
       "<p>1323 rows × 14 columns</p>\n",
       "</div>"
      ],
      "text/plain": [
       "      rice  year    district weather district division     yield   precip_1  \\\n",
       "0     Aman  2006    Bagerhat           Khulna   Khulna  0.728570  16.838710   \n",
       "1     Aman  2007    Bagerhat           Khulna   Khulna  0.522331  19.064516   \n",
       "2     Aman  2008    Bagerhat           Khulna   Khulna  0.663455   9.709677   \n",
       "3     Aman  2009    Bagerhat           Khulna   Khulna  0.769729  11.193548   \n",
       "4     Aman  2010    Bagerhat           Khulna   Khulna  0.710355   5.806452   \n",
       "...    ...   ...         ...              ...      ...       ...        ...   \n",
       "1318  Aman  2017  Thakurgaon         Dinajpur  Rangpur  1.138931   6.290323   \n",
       "1319  Aman  2018  Thakurgaon         Dinajpur  Rangpur  1.159884   5.322581   \n",
       "1320  Aman  2019  Thakurgaon         Dinajpur  Rangpur  1.170860  21.935484   \n",
       "1321  Aman  2020  Thakurgaon         Dinajpur  Rangpur  1.083696  19.935484   \n",
       "1322  Aman  2021  Thakurgaon         Dinajpur  Rangpur  1.163123   5.806452   \n",
       "\n",
       "       precip_2  precip_5  precip_6  temp_1  temp_2  temp_5  temp_6  \n",
       "0     11.741935  0.033333  0.000000    28.9    28.7    24.1    20.2  \n",
       "1      5.161290  3.766667  0.000000    28.6    29.3    24.2    19.1  \n",
       "2      6.516129  0.000000  0.000000    28.5    29.0    24.1    20.6  \n",
       "3     18.322581  0.666667  0.000000    29.0    29.0    24.5    19.3  \n",
       "4      6.612903  0.000000  0.419355    29.6    29.7    25.1    19.3  \n",
       "...         ...       ...       ...     ...     ...     ...     ...  \n",
       "1318  21.129032  0.000000  0.000000    29.3    29.6    22.1    19.2  \n",
       "1319   5.290323  0.000000  0.322581    29.9    30.1    21.8    17.3  \n",
       "1320  10.580645  0.000000  0.000000    29.4    30.4    23.2    16.5  \n",
       "1321  10.258065  0.100000  0.000000    28.9    30.2    22.0    17.7  \n",
       "1322  13.129032  0.000000  0.161290    29.9    29.2    22.1    18.9  \n",
       "\n",
       "[1323 rows x 14 columns]"
      ]
     },
     "execution_count": 131,
     "metadata": {},
     "output_type": "execute_result"
    }
   ],
   "source": [
    "data"
   ]
  },
  {
   "cell_type": "code",
   "execution_count": 179,
   "id": "14201571-bbf2-4387-9f9c-40aa8328a43a",
   "metadata": {},
   "outputs": [
    {
     "name": "stdout",
     "output_type": "stream",
     "text": [
      "Index(['year', 'district', 'yield', 'precip_1', 'precip_2', 'precip_5',\n",
      "       'precip_6', 'temp_1', 'temp_2', 'temp_5', 'temp_6'],\n",
      "      dtype='object')\n"
     ]
    }
   ],
   "source": [
    "# Dropping the specified columns\n",
    "data_dropped = data.drop(columns=['rice', 'weather district', 'division'])\n",
    "\n",
    "# Display the remaining columns\n",
    "print(data_dropped.columns)\n"
   ]
  },
  {
   "cell_type": "markdown",
   "id": "e24bd717-d715-4640-b445-88e430de7d4e",
   "metadata": {},
   "source": [
    "# Districts Starting in 2006 (Backward Padding for 1993-2005)"
   ]
  },
  {
   "cell_type": "code",
   "execution_count": 180,
   "id": "c4610a23-9f20-4e92-90f6-d5f21c4500dd",
   "metadata": {},
   "outputs": [
    {
     "data": {
      "text/html": [
       "<div>\n",
       "<style scoped>\n",
       "    .dataframe tbody tr th:only-of-type {\n",
       "        vertical-align: middle;\n",
       "    }\n",
       "\n",
       "    .dataframe tbody tr th {\n",
       "        vertical-align: top;\n",
       "    }\n",
       "\n",
       "    .dataframe thead th {\n",
       "        text-align: right;\n",
       "    }\n",
       "</style>\n",
       "<table border=\"1\" class=\"dataframe\">\n",
       "  <thead>\n",
       "    <tr style=\"text-align: right;\">\n",
       "      <th></th>\n",
       "      <th>year</th>\n",
       "      <th>district</th>\n",
       "      <th>yield</th>\n",
       "      <th>precip_1</th>\n",
       "      <th>precip_2</th>\n",
       "      <th>precip_5</th>\n",
       "      <th>precip_6</th>\n",
       "      <th>temp_1</th>\n",
       "      <th>temp_2</th>\n",
       "      <th>temp_5</th>\n",
       "      <th>temp_6</th>\n",
       "    </tr>\n",
       "  </thead>\n",
       "  <tbody>\n",
       "    <tr>\n",
       "      <th>0</th>\n",
       "      <td>1993</td>\n",
       "      <td>Bagerhat</td>\n",
       "      <td>0.72857</td>\n",
       "      <td>16.83871</td>\n",
       "      <td>11.741935</td>\n",
       "      <td>0.033333</td>\n",
       "      <td>0.0</td>\n",
       "      <td>28.9</td>\n",
       "      <td>28.7</td>\n",
       "      <td>24.1</td>\n",
       "      <td>20.2</td>\n",
       "    </tr>\n",
       "    <tr>\n",
       "      <th>1</th>\n",
       "      <td>1994</td>\n",
       "      <td>Bagerhat</td>\n",
       "      <td>0.72857</td>\n",
       "      <td>16.83871</td>\n",
       "      <td>11.741935</td>\n",
       "      <td>0.033333</td>\n",
       "      <td>0.0</td>\n",
       "      <td>28.9</td>\n",
       "      <td>28.7</td>\n",
       "      <td>24.1</td>\n",
       "      <td>20.2</td>\n",
       "    </tr>\n",
       "    <tr>\n",
       "      <th>2</th>\n",
       "      <td>1995</td>\n",
       "      <td>Bagerhat</td>\n",
       "      <td>0.72857</td>\n",
       "      <td>16.83871</td>\n",
       "      <td>11.741935</td>\n",
       "      <td>0.033333</td>\n",
       "      <td>0.0</td>\n",
       "      <td>28.9</td>\n",
       "      <td>28.7</td>\n",
       "      <td>24.1</td>\n",
       "      <td>20.2</td>\n",
       "    </tr>\n",
       "    <tr>\n",
       "      <th>3</th>\n",
       "      <td>1996</td>\n",
       "      <td>Bagerhat</td>\n",
       "      <td>0.72857</td>\n",
       "      <td>16.83871</td>\n",
       "      <td>11.741935</td>\n",
       "      <td>0.033333</td>\n",
       "      <td>0.0</td>\n",
       "      <td>28.9</td>\n",
       "      <td>28.7</td>\n",
       "      <td>24.1</td>\n",
       "      <td>20.2</td>\n",
       "    </tr>\n",
       "    <tr>\n",
       "      <th>4</th>\n",
       "      <td>1997</td>\n",
       "      <td>Bagerhat</td>\n",
       "      <td>0.72857</td>\n",
       "      <td>16.83871</td>\n",
       "      <td>11.741935</td>\n",
       "      <td>0.033333</td>\n",
       "      <td>0.0</td>\n",
       "      <td>28.9</td>\n",
       "      <td>28.7</td>\n",
       "      <td>24.1</td>\n",
       "      <td>20.2</td>\n",
       "    </tr>\n",
       "  </tbody>\n",
       "</table>\n",
       "</div>"
      ],
      "text/plain": [
       "   year  district    yield  precip_1   precip_2  precip_5  precip_6  temp_1  \\\n",
       "0  1993  Bagerhat  0.72857  16.83871  11.741935  0.033333       0.0    28.9   \n",
       "1  1994  Bagerhat  0.72857  16.83871  11.741935  0.033333       0.0    28.9   \n",
       "2  1995  Bagerhat  0.72857  16.83871  11.741935  0.033333       0.0    28.9   \n",
       "3  1996  Bagerhat  0.72857  16.83871  11.741935  0.033333       0.0    28.9   \n",
       "4  1997  Bagerhat  0.72857  16.83871  11.741935  0.033333       0.0    28.9   \n",
       "\n",
       "   temp_2  temp_5  temp_6  \n",
       "0    28.7    24.1    20.2  \n",
       "1    28.7    24.1    20.2  \n",
       "2    28.7    24.1    20.2  \n",
       "3    28.7    24.1    20.2  \n",
       "4    28.7    24.1    20.2  "
      ]
     },
     "execution_count": 180,
     "metadata": {},
     "output_type": "execute_result"
    }
   ],
   "source": [
    "df = pd.DataFrame(data_dropped)\n",
    "\n",
    "# Workflow 1: Backward Padding for districts starting from 2006\n",
    "# Filter districts starting from 2006\n",
    "start_2006 = df[df['year'] >= 2006].groupby('district')\n",
    "\n",
    "# Create missing rows for years 1993-2005 for each district starting in 2006\n",
    "for district, group in start_2006:\n",
    "    missing_years = pd.DataFrame({\n",
    "        'district': [district] * (2006 - 1993),\n",
    "        'year': list(range(1993, 2006)),\n",
    "        'yield': [group['yield'].iloc[0]] * (2006 - 1993),  # Backward fill from 2006\n",
    "        'precip_1': [group['precip_1'].iloc[0]] * (2006 - 1993),\n",
    "        'precip_2': [group['precip_2'].iloc[0]] * (2006 - 1993),\n",
    "        'precip_5': [group['precip_5'].iloc[0]] * (2006 - 1993),\n",
    "        'precip_6': [group['precip_6'].iloc[0]] * (2006 - 1993),\n",
    "        'temp_1': [group['temp_1'].iloc[0]] * (2006 - 1993),\n",
    "        'temp_2': [group['temp_2'].iloc[0]] * (2006 - 1993),\n",
    "        'temp_5': [group['temp_5'].iloc[0]] * (2006 - 1993),\n",
    "        'temp_6': [group['temp_6'].iloc[0]] * (2006 - 1993)\n",
    "    })\n",
    "    # Append the missing years back to the original dataframe\n",
    "    df = pd.concat([df, missing_years], ignore_index=True)\n",
    "\n",
    "# Sort the dataframe by district and year for clear order\n",
    "df = df.sort_values(by=['district', 'year']).reset_index(drop=True)\n",
    "\n",
    "\n",
    "df.head()\n"
   ]
  },
  {
   "cell_type": "code",
   "execution_count": 181,
   "id": "bae91b09-a62b-4e94-86d9-0ba50475bfe7",
   "metadata": {},
   "outputs": [
    {
     "data": {
      "text/html": [
       "<div>\n",
       "<style scoped>\n",
       "    .dataframe tbody tr th:only-of-type {\n",
       "        vertical-align: middle;\n",
       "    }\n",
       "\n",
       "    .dataframe tbody tr th {\n",
       "        vertical-align: top;\n",
       "    }\n",
       "\n",
       "    .dataframe thead th {\n",
       "        text-align: right;\n",
       "    }\n",
       "</style>\n",
       "<table border=\"1\" class=\"dataframe\">\n",
       "  <thead>\n",
       "    <tr style=\"text-align: right;\">\n",
       "      <th></th>\n",
       "      <th></th>\n",
       "      <th>yield</th>\n",
       "      <th>precip_1</th>\n",
       "      <th>precip_2</th>\n",
       "      <th>precip_5</th>\n",
       "      <th>precip_6</th>\n",
       "      <th>temp_1</th>\n",
       "      <th>temp_2</th>\n",
       "      <th>temp_5</th>\n",
       "      <th>temp_6</th>\n",
       "    </tr>\n",
       "    <tr>\n",
       "      <th>district</th>\n",
       "      <th>year</th>\n",
       "      <th></th>\n",
       "      <th></th>\n",
       "      <th></th>\n",
       "      <th></th>\n",
       "      <th></th>\n",
       "      <th></th>\n",
       "      <th></th>\n",
       "      <th></th>\n",
       "      <th></th>\n",
       "    </tr>\n",
       "  </thead>\n",
       "  <tbody>\n",
       "    <tr>\n",
       "      <th rowspan=\"5\" valign=\"top\">Bagerhat</th>\n",
       "      <th>1993</th>\n",
       "      <td>0.72857</td>\n",
       "      <td>16.83871</td>\n",
       "      <td>11.741935</td>\n",
       "      <td>0.033333</td>\n",
       "      <td>0.0</td>\n",
       "      <td>28.9</td>\n",
       "      <td>28.7</td>\n",
       "      <td>24.1</td>\n",
       "      <td>20.2</td>\n",
       "    </tr>\n",
       "    <tr>\n",
       "      <th>1994</th>\n",
       "      <td>0.72857</td>\n",
       "      <td>16.83871</td>\n",
       "      <td>11.741935</td>\n",
       "      <td>0.033333</td>\n",
       "      <td>0.0</td>\n",
       "      <td>28.9</td>\n",
       "      <td>28.7</td>\n",
       "      <td>24.1</td>\n",
       "      <td>20.2</td>\n",
       "    </tr>\n",
       "    <tr>\n",
       "      <th>1995</th>\n",
       "      <td>0.72857</td>\n",
       "      <td>16.83871</td>\n",
       "      <td>11.741935</td>\n",
       "      <td>0.033333</td>\n",
       "      <td>0.0</td>\n",
       "      <td>28.9</td>\n",
       "      <td>28.7</td>\n",
       "      <td>24.1</td>\n",
       "      <td>20.2</td>\n",
       "    </tr>\n",
       "    <tr>\n",
       "      <th>1996</th>\n",
       "      <td>0.72857</td>\n",
       "      <td>16.83871</td>\n",
       "      <td>11.741935</td>\n",
       "      <td>0.033333</td>\n",
       "      <td>0.0</td>\n",
       "      <td>28.9</td>\n",
       "      <td>28.7</td>\n",
       "      <td>24.1</td>\n",
       "      <td>20.2</td>\n",
       "    </tr>\n",
       "    <tr>\n",
       "      <th>1997</th>\n",
       "      <td>0.72857</td>\n",
       "      <td>16.83871</td>\n",
       "      <td>11.741935</td>\n",
       "      <td>0.033333</td>\n",
       "      <td>0.0</td>\n",
       "      <td>28.9</td>\n",
       "      <td>28.7</td>\n",
       "      <td>24.1</td>\n",
       "      <td>20.2</td>\n",
       "    </tr>\n",
       "  </tbody>\n",
       "</table>\n",
       "</div>"
      ],
      "text/plain": [
       "                 yield  precip_1   precip_2  precip_5  precip_6  temp_1  \\\n",
       "district year                                                             \n",
       "Bagerhat 1993  0.72857  16.83871  11.741935  0.033333       0.0    28.9   \n",
       "         1994  0.72857  16.83871  11.741935  0.033333       0.0    28.9   \n",
       "         1995  0.72857  16.83871  11.741935  0.033333       0.0    28.9   \n",
       "         1996  0.72857  16.83871  11.741935  0.033333       0.0    28.9   \n",
       "         1997  0.72857  16.83871  11.741935  0.033333       0.0    28.9   \n",
       "\n",
       "               temp_2  temp_5  temp_6  \n",
       "district year                          \n",
       "Bagerhat 1993    28.7    24.1    20.2  \n",
       "         1994    28.7    24.1    20.2  \n",
       "         1995    28.7    24.1    20.2  \n",
       "         1996    28.7    24.1    20.2  \n",
       "         1997    28.7    24.1    20.2  "
      ]
     },
     "execution_count": 181,
     "metadata": {},
     "output_type": "execute_result"
    }
   ],
   "source": [
    "# Set 'district' and 'year' as the index and keep the necessary columns\n",
    "yield_data = df.set_index(['district', 'year'])[['yield','precip_1', 'precip_2', 'precip_5', 'precip_6', \n",
    "                                               'temp_1', 'temp_2', 'temp_5', 'temp_6',]]\n",
    "\n",
    "# Display the reshaped DataFrame\n",
    "yield_data.head()\n"
   ]
  },
  {
   "cell_type": "code",
   "execution_count": 182,
   "id": "900feccc-4931-487a-85e1-09f890e0a172",
   "metadata": {},
   "outputs": [
    {
     "data": {
      "text/plain": [
       "(2155, 9)"
      ]
     },
     "execution_count": 182,
     "metadata": {},
     "output_type": "execute_result"
    }
   ],
   "source": [
    "yield_data.shape"
   ]
  },
  {
   "cell_type": "code",
   "execution_count": 183,
   "id": "04c5af42-b49f-4331-bdb6-181432c56b24",
   "metadata": {},
   "outputs": [
    {
     "data": {
      "text/plain": [
       "0    Khagrachari\n",
       "1     Chittagong\n",
       "2      Bandarban\n",
       "3      Rangamati\n",
       "4        Jessore\n",
       "5        Kushtia\n",
       "6        Rangpur\n",
       "7       Rajshahi\n",
       "8    Kishoregonj\n",
       "9          Bogra\n",
       "Name: district, dtype: object"
      ]
     },
     "execution_count": 183,
     "metadata": {},
     "output_type": "execute_result"
    }
   ],
   "source": [
    "# Group the data by 'district' and sum the 'yield' for each district\n",
    "top_10_districts = pd.DataFrame(yield_data.groupby('district')['yield'].sum()).sort_values(by='yield', ascending=False).reset_index()\n",
    "\n",
    "# Get the names of the top 10 districts\n",
    "top_10_district_names = top_10_districts['district'][:10]\n",
    "top_10_district_names\n"
   ]
  },
  {
   "cell_type": "code",
   "execution_count": 69,
   "id": "2f6c00fb-bccc-4288-a050-146d68b7b8b3",
   "metadata": {},
   "outputs": [
    {
     "data": {
      "text/html": [
       "<div>\n",
       "<style scoped>\n",
       "    .dataframe tbody tr th:only-of-type {\n",
       "        vertical-align: middle;\n",
       "    }\n",
       "\n",
       "    .dataframe tbody tr th {\n",
       "        vertical-align: top;\n",
       "    }\n",
       "\n",
       "    .dataframe thead th {\n",
       "        text-align: right;\n",
       "    }\n",
       "</style>\n",
       "<table border=\"1\" class=\"dataframe\">\n",
       "  <thead>\n",
       "    <tr style=\"text-align: right;\">\n",
       "      <th></th>\n",
       "      <th>district</th>\n",
       "      <th>yield</th>\n",
       "    </tr>\n",
       "  </thead>\n",
       "  <tbody>\n",
       "    <tr>\n",
       "      <th>0</th>\n",
       "      <td>Khagrachari</td>\n",
       "      <td>43.962612</td>\n",
       "    </tr>\n",
       "    <tr>\n",
       "      <th>1</th>\n",
       "      <td>Chittagong</td>\n",
       "      <td>43.670701</td>\n",
       "    </tr>\n",
       "    <tr>\n",
       "      <th>2</th>\n",
       "      <td>Bandarban</td>\n",
       "      <td>43.648252</td>\n",
       "    </tr>\n",
       "    <tr>\n",
       "      <th>3</th>\n",
       "      <td>Rangamati</td>\n",
       "      <td>43.468955</td>\n",
       "    </tr>\n",
       "    <tr>\n",
       "      <th>4</th>\n",
       "      <td>Jessore</td>\n",
       "      <td>40.656823</td>\n",
       "    </tr>\n",
       "    <tr>\n",
       "      <th>5</th>\n",
       "      <td>Kushtia</td>\n",
       "      <td>39.985933</td>\n",
       "    </tr>\n",
       "    <tr>\n",
       "      <th>6</th>\n",
       "      <td>Rangpur</td>\n",
       "      <td>39.574100</td>\n",
       "    </tr>\n",
       "    <tr>\n",
       "      <th>7</th>\n",
       "      <td>Rajshahi</td>\n",
       "      <td>39.392339</td>\n",
       "    </tr>\n",
       "    <tr>\n",
       "      <th>8</th>\n",
       "      <td>Kishoregonj</td>\n",
       "      <td>39.032074</td>\n",
       "    </tr>\n",
       "    <tr>\n",
       "      <th>9</th>\n",
       "      <td>Bogra</td>\n",
       "      <td>37.959269</td>\n",
       "    </tr>\n",
       "  </tbody>\n",
       "</table>\n",
       "</div>"
      ],
      "text/plain": [
       "      district      yield\n",
       "0  Khagrachari  43.962612\n",
       "1   Chittagong  43.670701\n",
       "2    Bandarban  43.648252\n",
       "3    Rangamati  43.468955\n",
       "4      Jessore  40.656823\n",
       "5      Kushtia  39.985933\n",
       "6      Rangpur  39.574100\n",
       "7     Rajshahi  39.392339\n",
       "8  Kishoregonj  39.032074\n",
       "9        Bogra  37.959269"
      ]
     },
     "execution_count": 69,
     "metadata": {},
     "output_type": "execute_result"
    }
   ],
   "source": [
    "top_10_districts.head(10)"
   ]
  },
  {
   "cell_type": "markdown",
   "id": "b1b01ce9-b5da-4ffd-a664-3840ad62c04d",
   "metadata": {},
   "source": [
    "# Data Standardization\n"
   ]
  },
  {
   "cell_type": "code",
   "execution_count": 184,
   "id": "12ce3608-426b-4cce-a830-17c18bbe99d2",
   "metadata": {},
   "outputs": [],
   "source": [
    "# Normalize the data: Drop the target variable 'yield' and categorical columns\n",
    "scaler = MinMaxScaler(feature_range=(0, 1))\n",
    "scaled = scaler.fit_transform(yield_data.drop(columns=['yield']))\n",
    "\n",
    "# Create a DataFrame for the scaled data\n",
    "scaled_df = pd.DataFrame(data=scaled, columns=yield_data.drop(columns=['yield']).columns)"
   ]
  },
  {
   "cell_type": "code",
   "execution_count": 185,
   "id": "c8daf03c-1863-4c4f-98f5-7cc4519bd90e",
   "metadata": {},
   "outputs": [
    {
     "data": {
      "text/html": [
       "<div>\n",
       "<style scoped>\n",
       "    .dataframe tbody tr th:only-of-type {\n",
       "        vertical-align: middle;\n",
       "    }\n",
       "\n",
       "    .dataframe tbody tr th {\n",
       "        vertical-align: top;\n",
       "    }\n",
       "\n",
       "    .dataframe thead th {\n",
       "        text-align: right;\n",
       "    }\n",
       "</style>\n",
       "<table border=\"1\" class=\"dataframe\">\n",
       "  <thead>\n",
       "    <tr style=\"text-align: right;\">\n",
       "      <th></th>\n",
       "      <th>precip_1</th>\n",
       "      <th>precip_2</th>\n",
       "      <th>precip_5</th>\n",
       "      <th>precip_6</th>\n",
       "      <th>temp_1</th>\n",
       "      <th>temp_2</th>\n",
       "      <th>temp_5</th>\n",
       "      <th>temp_6</th>\n",
       "    </tr>\n",
       "  </thead>\n",
       "  <tbody>\n",
       "    <tr>\n",
       "      <th>0</th>\n",
       "      <td>0.293917</td>\n",
       "      <td>0.245844</td>\n",
       "      <td>0.00274</td>\n",
       "      <td>0.0</td>\n",
       "      <td>0.617647</td>\n",
       "      <td>0.484848</td>\n",
       "      <td>0.681818</td>\n",
       "      <td>0.571429</td>\n",
       "    </tr>\n",
       "    <tr>\n",
       "      <th>1</th>\n",
       "      <td>0.293917</td>\n",
       "      <td>0.245844</td>\n",
       "      <td>0.00274</td>\n",
       "      <td>0.0</td>\n",
       "      <td>0.617647</td>\n",
       "      <td>0.484848</td>\n",
       "      <td>0.681818</td>\n",
       "      <td>0.571429</td>\n",
       "    </tr>\n",
       "    <tr>\n",
       "      <th>2</th>\n",
       "      <td>0.293917</td>\n",
       "      <td>0.245844</td>\n",
       "      <td>0.00274</td>\n",
       "      <td>0.0</td>\n",
       "      <td>0.617647</td>\n",
       "      <td>0.484848</td>\n",
       "      <td>0.681818</td>\n",
       "      <td>0.571429</td>\n",
       "    </tr>\n",
       "    <tr>\n",
       "      <th>3</th>\n",
       "      <td>0.293917</td>\n",
       "      <td>0.245844</td>\n",
       "      <td>0.00274</td>\n",
       "      <td>0.0</td>\n",
       "      <td>0.617647</td>\n",
       "      <td>0.484848</td>\n",
       "      <td>0.681818</td>\n",
       "      <td>0.571429</td>\n",
       "    </tr>\n",
       "    <tr>\n",
       "      <th>4</th>\n",
       "      <td>0.293917</td>\n",
       "      <td>0.245844</td>\n",
       "      <td>0.00274</td>\n",
       "      <td>0.0</td>\n",
       "      <td>0.617647</td>\n",
       "      <td>0.484848</td>\n",
       "      <td>0.681818</td>\n",
       "      <td>0.571429</td>\n",
       "    </tr>\n",
       "  </tbody>\n",
       "</table>\n",
       "</div>"
      ],
      "text/plain": [
       "   precip_1  precip_2  precip_5  precip_6    temp_1    temp_2    temp_5  \\\n",
       "0  0.293917  0.245844   0.00274       0.0  0.617647  0.484848  0.681818   \n",
       "1  0.293917  0.245844   0.00274       0.0  0.617647  0.484848  0.681818   \n",
       "2  0.293917  0.245844   0.00274       0.0  0.617647  0.484848  0.681818   \n",
       "3  0.293917  0.245844   0.00274       0.0  0.617647  0.484848  0.681818   \n",
       "4  0.293917  0.245844   0.00274       0.0  0.617647  0.484848  0.681818   \n",
       "\n",
       "     temp_6  \n",
       "0  0.571429  \n",
       "1  0.571429  \n",
       "2  0.571429  \n",
       "3  0.571429  \n",
       "4  0.571429  "
      ]
     },
     "execution_count": 185,
     "metadata": {},
     "output_type": "execute_result"
    }
   ],
   "source": [
    "# Check the normalized data\n",
    "scaled_df.head()"
   ]
  },
  {
   "cell_type": "code",
   "execution_count": 186,
   "id": "dae74bf4-ebc1-4624-9d54-b08f679fab2c",
   "metadata": {},
   "outputs": [
    {
     "data": {
      "text/html": [
       "<div>\n",
       "<style scoped>\n",
       "    .dataframe tbody tr th:only-of-type {\n",
       "        vertical-align: middle;\n",
       "    }\n",
       "\n",
       "    .dataframe tbody tr th {\n",
       "        vertical-align: top;\n",
       "    }\n",
       "\n",
       "    .dataframe thead th {\n",
       "        text-align: right;\n",
       "    }\n",
       "</style>\n",
       "<table border=\"1\" class=\"dataframe\">\n",
       "  <thead>\n",
       "    <tr style=\"text-align: right;\">\n",
       "      <th></th>\n",
       "      <th></th>\n",
       "      <th>yield</th>\n",
       "      <th>precip_1</th>\n",
       "      <th>precip_2</th>\n",
       "      <th>precip_5</th>\n",
       "      <th>precip_6</th>\n",
       "      <th>temp_1</th>\n",
       "      <th>temp_2</th>\n",
       "      <th>temp_5</th>\n",
       "      <th>temp_6</th>\n",
       "    </tr>\n",
       "    <tr>\n",
       "      <th>district</th>\n",
       "      <th>year</th>\n",
       "      <th></th>\n",
       "      <th></th>\n",
       "      <th></th>\n",
       "      <th></th>\n",
       "      <th></th>\n",
       "      <th></th>\n",
       "      <th></th>\n",
       "      <th></th>\n",
       "      <th></th>\n",
       "    </tr>\n",
       "  </thead>\n",
       "  <tbody>\n",
       "    <tr>\n",
       "      <th rowspan=\"5\" valign=\"top\">Bagerhat</th>\n",
       "      <th>1993</th>\n",
       "      <td>0.72857</td>\n",
       "      <td>0.293917</td>\n",
       "      <td>0.245844</td>\n",
       "      <td>0.00274</td>\n",
       "      <td>0.0</td>\n",
       "      <td>0.617647</td>\n",
       "      <td>0.484848</td>\n",
       "      <td>0.681818</td>\n",
       "      <td>0.571429</td>\n",
       "    </tr>\n",
       "    <tr>\n",
       "      <th>1994</th>\n",
       "      <td>0.72857</td>\n",
       "      <td>0.293917</td>\n",
       "      <td>0.245844</td>\n",
       "      <td>0.00274</td>\n",
       "      <td>0.0</td>\n",
       "      <td>0.617647</td>\n",
       "      <td>0.484848</td>\n",
       "      <td>0.681818</td>\n",
       "      <td>0.571429</td>\n",
       "    </tr>\n",
       "    <tr>\n",
       "      <th>1995</th>\n",
       "      <td>0.72857</td>\n",
       "      <td>0.293917</td>\n",
       "      <td>0.245844</td>\n",
       "      <td>0.00274</td>\n",
       "      <td>0.0</td>\n",
       "      <td>0.617647</td>\n",
       "      <td>0.484848</td>\n",
       "      <td>0.681818</td>\n",
       "      <td>0.571429</td>\n",
       "    </tr>\n",
       "    <tr>\n",
       "      <th>1996</th>\n",
       "      <td>0.72857</td>\n",
       "      <td>0.293917</td>\n",
       "      <td>0.245844</td>\n",
       "      <td>0.00274</td>\n",
       "      <td>0.0</td>\n",
       "      <td>0.617647</td>\n",
       "      <td>0.484848</td>\n",
       "      <td>0.681818</td>\n",
       "      <td>0.571429</td>\n",
       "    </tr>\n",
       "    <tr>\n",
       "      <th>1997</th>\n",
       "      <td>0.72857</td>\n",
       "      <td>0.293917</td>\n",
       "      <td>0.245844</td>\n",
       "      <td>0.00274</td>\n",
       "      <td>0.0</td>\n",
       "      <td>0.617647</td>\n",
       "      <td>0.484848</td>\n",
       "      <td>0.681818</td>\n",
       "      <td>0.571429</td>\n",
       "    </tr>\n",
       "  </tbody>\n",
       "</table>\n",
       "</div>"
      ],
      "text/plain": [
       "                 yield  precip_1  precip_2  precip_5  precip_6    temp_1  \\\n",
       "district year                                                              \n",
       "Bagerhat 1993  0.72857  0.293917  0.245844   0.00274       0.0  0.617647   \n",
       "         1994  0.72857  0.293917  0.245844   0.00274       0.0  0.617647   \n",
       "         1995  0.72857  0.293917  0.245844   0.00274       0.0  0.617647   \n",
       "         1996  0.72857  0.293917  0.245844   0.00274       0.0  0.617647   \n",
       "         1997  0.72857  0.293917  0.245844   0.00274       0.0  0.617647   \n",
       "\n",
       "                 temp_2    temp_5    temp_6  \n",
       "district year                                \n",
       "Bagerhat 1993  0.484848  0.681818  0.571429  \n",
       "         1994  0.484848  0.681818  0.571429  \n",
       "         1995  0.484848  0.681818  0.571429  \n",
       "         1996  0.484848  0.681818  0.571429  \n",
       "         1997  0.484848  0.681818  0.571429  "
      ]
     },
     "execution_count": 186,
     "metadata": {},
     "output_type": "execute_result"
    }
   ],
   "source": [
    "# Create a copy of the original DataFrame\n",
    "yield_data_scaled = yield_data.copy()\n",
    "\n",
    "# Replace the relevant columns with the scaled values\n",
    "yield_data_scaled[scaled_df.columns] = np.array(scaled_df)\n",
    "\n",
    "# Set the index of the DataFrame to 'district' and 'year'\n",
    "yield_data_scaled = yield_data_scaled.reset_index().set_index(['district', 'year'])\n",
    "\n",
    "# Display the first few rows of the updated DataFrame\n",
    "yield_data_scaled.head()\n"
   ]
  },
  {
   "cell_type": "markdown",
   "id": "11709030-a40e-4121-a6cf-47ab78639b2f",
   "metadata": {},
   "source": [
    "#  Train Test Split"
   ]
  },
  {
   "cell_type": "code",
   "execution_count": 187,
   "id": "00443dba-fda3-4547-9478-59d527823f0a",
   "metadata": {},
   "outputs": [],
   "source": [
    "# Function to split the data into train and test sets\n",
    "def train_test_split(data):\n",
    "    # Calculate the size of the training set (80% of the data)\n",
    "    size = int(len(data) * 0.8)\n",
    "\n",
    "    # For train data, collect 80% of the data, dropping the target variable 'yield'\n",
    "    x_train = data.drop(columns=['yield']).iloc[0:size]\n",
    "    \n",
    "    # For test data, collect the remaining 20% of the data\n",
    "    x_test = data.drop(columns=['yield']).iloc[size:]\n",
    "\n",
    "    # Define the target variable for training and testing\n",
    "    y_train = data['yield'].iloc[0:size]\n",
    "    y_test = data['yield'].iloc[size:]\n",
    "\n",
    "    return x_train, x_test, y_train, y_test\n"
   ]
  },
  {
   "cell_type": "code",
   "execution_count": 189,
   "id": "c7c138e9-a870-4c4a-b5b6-5b3f6b95da59",
   "metadata": {},
   "outputs": [
    {
     "data": {
      "text/plain": [
       "(2155, 9)"
      ]
     },
     "execution_count": 189,
     "metadata": {},
     "output_type": "execute_result"
    }
   ],
   "source": [
    "yield_data_scaled.shape"
   ]
  },
  {
   "cell_type": "code",
   "execution_count": 190,
   "id": "56d7180d-4904-40f4-9fa6-0be46522f906",
   "metadata": {},
   "outputs": [],
   "source": [
    "# Get unique districts\n",
    "districts = yield_data_scaled.index.levels[0]  # Get the unique districts from the first level of the index\n",
    "\n",
    "\n",
    "\n",
    "# Initialize empty lists for training and testing data\n",
    "X_train = []\n",
    "X_test = []\n",
    "Y_train = []\n",
    "Y_test = []\n",
    "\n",
    "for district in districts:\n",
    "    data = yield_data_scaled.xs(district, level='district')  # Get data for the current district\n",
    "    \n",
    "    # Optionally, reset the index and add the district back\n",
    "    data_reset = data.reset_index()  # This will make 'year' a column\n",
    "    data_reset['district'] = district  # Add the district back as a column\n",
    "    data_reset = data_reset.set_index(['district', 'year'])  # Set the index back to district and year\n",
    "\n",
    "    # Apply the function to split the data\n",
    "    x_train, x_test, y_train, y_test = train_test_split(data_reset) \n",
    "    X_train.append(x_train)\n",
    "    X_test.append(x_test)\n",
    "    Y_train.append(y_train)\n",
    "    Y_test.append(y_test)\n",
    "\n",
    "\n"
   ]
  },
  {
   "cell_type": "code",
   "execution_count": 143,
   "id": "0e3296ae-710a-41fb-b54b-e05353c01304",
   "metadata": {},
   "outputs": [
    {
     "data": {
      "text/html": [
       "<div>\n",
       "<style scoped>\n",
       "    .dataframe tbody tr th:only-of-type {\n",
       "        vertical-align: middle;\n",
       "    }\n",
       "\n",
       "    .dataframe tbody tr th {\n",
       "        vertical-align: top;\n",
       "    }\n",
       "\n",
       "    .dataframe thead th {\n",
       "        text-align: right;\n",
       "    }\n",
       "</style>\n",
       "<table border=\"1\" class=\"dataframe\">\n",
       "  <thead>\n",
       "    <tr style=\"text-align: right;\">\n",
       "      <th></th>\n",
       "      <th></th>\n",
       "      <th>precip_1</th>\n",
       "      <th>precip_2</th>\n",
       "      <th>precip_5</th>\n",
       "      <th>precip_6</th>\n",
       "      <th>temp_1</th>\n",
       "      <th>temp_2</th>\n",
       "      <th>temp_5</th>\n",
       "      <th>temp_6</th>\n",
       "    </tr>\n",
       "    <tr>\n",
       "      <th>district</th>\n",
       "      <th>year</th>\n",
       "      <th></th>\n",
       "      <th></th>\n",
       "      <th></th>\n",
       "      <th></th>\n",
       "      <th></th>\n",
       "      <th></th>\n",
       "      <th></th>\n",
       "      <th></th>\n",
       "    </tr>\n",
       "  </thead>\n",
       "  <tbody>\n",
       "    <tr>\n",
       "      <th rowspan=\"5\" valign=\"top\">Bagerhat</th>\n",
       "      <th>1993</th>\n",
       "      <td>0.293917</td>\n",
       "      <td>0.245844</td>\n",
       "      <td>0.00274</td>\n",
       "      <td>0.0</td>\n",
       "      <td>0.617647</td>\n",
       "      <td>0.484848</td>\n",
       "      <td>0.681818</td>\n",
       "      <td>0.571429</td>\n",
       "    </tr>\n",
       "    <tr>\n",
       "      <th>1994</th>\n",
       "      <td>0.293917</td>\n",
       "      <td>0.245844</td>\n",
       "      <td>0.00274</td>\n",
       "      <td>0.0</td>\n",
       "      <td>0.617647</td>\n",
       "      <td>0.484848</td>\n",
       "      <td>0.681818</td>\n",
       "      <td>0.571429</td>\n",
       "    </tr>\n",
       "    <tr>\n",
       "      <th>1995</th>\n",
       "      <td>0.293917</td>\n",
       "      <td>0.245844</td>\n",
       "      <td>0.00274</td>\n",
       "      <td>0.0</td>\n",
       "      <td>0.617647</td>\n",
       "      <td>0.484848</td>\n",
       "      <td>0.681818</td>\n",
       "      <td>0.571429</td>\n",
       "    </tr>\n",
       "    <tr>\n",
       "      <th>1996</th>\n",
       "      <td>0.293917</td>\n",
       "      <td>0.245844</td>\n",
       "      <td>0.00274</td>\n",
       "      <td>0.0</td>\n",
       "      <td>0.617647</td>\n",
       "      <td>0.484848</td>\n",
       "      <td>0.681818</td>\n",
       "      <td>0.571429</td>\n",
       "    </tr>\n",
       "    <tr>\n",
       "      <th>1997</th>\n",
       "      <td>0.293917</td>\n",
       "      <td>0.245844</td>\n",
       "      <td>0.00274</td>\n",
       "      <td>0.0</td>\n",
       "      <td>0.617647</td>\n",
       "      <td>0.484848</td>\n",
       "      <td>0.681818</td>\n",
       "      <td>0.571429</td>\n",
       "    </tr>\n",
       "  </tbody>\n",
       "</table>\n",
       "</div>"
      ],
      "text/plain": [
       "               precip_1  precip_2  precip_5  precip_6    temp_1    temp_2  \\\n",
       "district year                                                               \n",
       "Bagerhat 1993  0.293917  0.245844   0.00274       0.0  0.617647  0.484848   \n",
       "         1994  0.293917  0.245844   0.00274       0.0  0.617647  0.484848   \n",
       "         1995  0.293917  0.245844   0.00274       0.0  0.617647  0.484848   \n",
       "         1996  0.293917  0.245844   0.00274       0.0  0.617647  0.484848   \n",
       "         1997  0.293917  0.245844   0.00274       0.0  0.617647  0.484848   \n",
       "\n",
       "                 temp_5    temp_6  \n",
       "district year                      \n",
       "Bagerhat 1993  0.681818  0.571429  \n",
       "         1994  0.681818  0.571429  \n",
       "         1995  0.681818  0.571429  \n",
       "         1996  0.681818  0.571429  \n",
       "         1997  0.681818  0.571429  "
      ]
     },
     "execution_count": 143,
     "metadata": {},
     "output_type": "execute_result"
    }
   ],
   "source": [
    "X_train[0].head()"
   ]
  },
  {
   "cell_type": "code",
   "execution_count": 144,
   "id": "bd3b1d82-72fb-428c-b9ee-b622a4439919",
   "metadata": {},
   "outputs": [
    {
     "data": {
      "text/plain": [
       "district  year\n",
       "Bagerhat  1993    0.72857\n",
       "          1994    0.72857\n",
       "          1995    0.72857\n",
       "          1996    0.72857\n",
       "          1997    0.72857\n",
       "Name: yield, dtype: float64"
      ]
     },
     "execution_count": 144,
     "metadata": {},
     "output_type": "execute_result"
    }
   ],
   "source": [
    "Y_train[0].head()"
   ]
  },
  {
   "cell_type": "code",
   "execution_count": 191,
   "id": "989e36d5-4c5e-4481-8eee-b446446ceff4",
   "metadata": {},
   "outputs": [],
   "source": [
    "# concatenate each train dataset in X_train list and Y_train list respectively \n",
    "X_train=pd.concat(X_train)\n",
    "Y_train=pd.DataFrame(pd.concat(Y_train))\n",
    "# concatenate each test dataset in X_test list and Y_test list respectively\n",
    "X_test=pd.concat(X_test)\n",
    "Y_test=pd.DataFrame(pd.concat(Y_test))"
   ]
  },
  {
   "cell_type": "code",
   "execution_count": 146,
   "id": "a587a4b6-065a-4c22-9f9e-f7715e59b590",
   "metadata": {},
   "outputs": [
    {
     "data": {
      "text/html": [
       "<div>\n",
       "<style scoped>\n",
       "    .dataframe tbody tr th:only-of-type {\n",
       "        vertical-align: middle;\n",
       "    }\n",
       "\n",
       "    .dataframe tbody tr th {\n",
       "        vertical-align: top;\n",
       "    }\n",
       "\n",
       "    .dataframe thead th {\n",
       "        text-align: right;\n",
       "    }\n",
       "</style>\n",
       "<table border=\"1\" class=\"dataframe\">\n",
       "  <thead>\n",
       "    <tr style=\"text-align: right;\">\n",
       "      <th></th>\n",
       "      <th></th>\n",
       "      <th>precip_1</th>\n",
       "      <th>precip_2</th>\n",
       "      <th>precip_5</th>\n",
       "      <th>precip_6</th>\n",
       "      <th>temp_1</th>\n",
       "      <th>temp_2</th>\n",
       "      <th>temp_5</th>\n",
       "      <th>temp_6</th>\n",
       "    </tr>\n",
       "    <tr>\n",
       "      <th>district</th>\n",
       "      <th>year</th>\n",
       "      <th></th>\n",
       "      <th></th>\n",
       "      <th></th>\n",
       "      <th></th>\n",
       "      <th></th>\n",
       "      <th></th>\n",
       "      <th></th>\n",
       "      <th></th>\n",
       "    </tr>\n",
       "  </thead>\n",
       "  <tbody>\n",
       "    <tr>\n",
       "      <th rowspan=\"5\" valign=\"top\">Bagerhat</th>\n",
       "      <th>1993</th>\n",
       "      <td>0.293917</td>\n",
       "      <td>0.245844</td>\n",
       "      <td>0.00274</td>\n",
       "      <td>0.0</td>\n",
       "      <td>0.617647</td>\n",
       "      <td>0.484848</td>\n",
       "      <td>0.681818</td>\n",
       "      <td>0.571429</td>\n",
       "    </tr>\n",
       "    <tr>\n",
       "      <th>1994</th>\n",
       "      <td>0.293917</td>\n",
       "      <td>0.245844</td>\n",
       "      <td>0.00274</td>\n",
       "      <td>0.0</td>\n",
       "      <td>0.617647</td>\n",
       "      <td>0.484848</td>\n",
       "      <td>0.681818</td>\n",
       "      <td>0.571429</td>\n",
       "    </tr>\n",
       "    <tr>\n",
       "      <th>1995</th>\n",
       "      <td>0.293917</td>\n",
       "      <td>0.245844</td>\n",
       "      <td>0.00274</td>\n",
       "      <td>0.0</td>\n",
       "      <td>0.617647</td>\n",
       "      <td>0.484848</td>\n",
       "      <td>0.681818</td>\n",
       "      <td>0.571429</td>\n",
       "    </tr>\n",
       "    <tr>\n",
       "      <th>1996</th>\n",
       "      <td>0.293917</td>\n",
       "      <td>0.245844</td>\n",
       "      <td>0.00274</td>\n",
       "      <td>0.0</td>\n",
       "      <td>0.617647</td>\n",
       "      <td>0.484848</td>\n",
       "      <td>0.681818</td>\n",
       "      <td>0.571429</td>\n",
       "    </tr>\n",
       "    <tr>\n",
       "      <th>1997</th>\n",
       "      <td>0.293917</td>\n",
       "      <td>0.245844</td>\n",
       "      <td>0.00274</td>\n",
       "      <td>0.0</td>\n",
       "      <td>0.617647</td>\n",
       "      <td>0.484848</td>\n",
       "      <td>0.681818</td>\n",
       "      <td>0.571429</td>\n",
       "    </tr>\n",
       "  </tbody>\n",
       "</table>\n",
       "</div>"
      ],
      "text/plain": [
       "               precip_1  precip_2  precip_5  precip_6    temp_1    temp_2  \\\n",
       "district year                                                               \n",
       "Bagerhat 1993  0.293917  0.245844   0.00274       0.0  0.617647  0.484848   \n",
       "         1994  0.293917  0.245844   0.00274       0.0  0.617647  0.484848   \n",
       "         1995  0.293917  0.245844   0.00274       0.0  0.617647  0.484848   \n",
       "         1996  0.293917  0.245844   0.00274       0.0  0.617647  0.484848   \n",
       "         1997  0.293917  0.245844   0.00274       0.0  0.617647  0.484848   \n",
       "\n",
       "                 temp_5    temp_6  \n",
       "district year                      \n",
       "Bagerhat 1993  0.681818  0.571429  \n",
       "         1994  0.681818  0.571429  \n",
       "         1995  0.681818  0.571429  \n",
       "         1996  0.681818  0.571429  \n",
       "         1997  0.681818  0.571429  "
      ]
     },
     "execution_count": 146,
     "metadata": {},
     "output_type": "execute_result"
    }
   ],
   "source": [
    "# double check the train data and test data and our target \n",
    "X_train.head()"
   ]
  },
  {
   "cell_type": "code",
   "execution_count": 192,
   "id": "6728e228-1af9-4332-912e-c993f18d6ea8",
   "metadata": {},
   "outputs": [
    {
     "data": {
      "text/plain": [
       "(1702, 8)"
      ]
     },
     "execution_count": 192,
     "metadata": {},
     "output_type": "execute_result"
    }
   ],
   "source": [
    "X_train.shape"
   ]
  },
  {
   "cell_type": "markdown",
   "id": "253d4e90-066a-46c4-8c57-c32d082d4d60",
   "metadata": {},
   "source": [
    "# Data Preprocessing"
   ]
  },
  {
   "cell_type": "code",
   "execution_count": 193,
   "id": "fd7ea8fc-057a-422c-ba6c-056f92dc0ff6",
   "metadata": {},
   "outputs": [],
   "source": [
    "# Code Source: https://machinelearningmastery.com/multivariate-time-series-forecasting-lstms-keras/\n",
    "# convert series to supervised learning\n",
    "def series_to_supervised(data, n_in=1, n_out=1, dropnan=True):\n",
    "    n_vars = 1 if type(data) is list else data.shape[1]\n",
    "    df = DataFrame(data)\n",
    "    cols, names = list(), list()\n",
    "    # input sequence (t-n, ... t-1)\n",
    "    for i in range(n_in, 0, -1):\n",
    "        cols.append(df.shift(i))\n",
    "        names += [('var%d(t-%d)' % (j+1, i)) for j in range(n_vars)]\n",
    "    # forecast sequence (t, t+1, ... t+n)\n",
    "    for i in range(0, n_out):\n",
    "        cols.append(df.shift(-i))\n",
    "        if i == 0:\n",
    "            names += [('var%d(t)' % (j+1)) for j in range(n_vars)]\n",
    "        else:\n",
    "            names += [('var%d(t+%d)' % (j+1, i)) for j in range(n_vars)]\n",
    "    # put it all together\n",
    "    agg = concat(cols, axis=1)\n",
    "    agg.columns = names\n",
    "    # drop rows with NaN values\n",
    "    if dropnan:\n",
    "        agg.dropna(inplace=True)\n",
    "    return agg\n",
    "\n",
    "# create the reshape function\n",
    "def reshape_data(train,test):\n",
    "    #Frame as supervised learning and drop all time t columns except\n",
    "    reframed_train = series_to_supervised(train, 1, 1)\n",
    "    reframed_test = series_to_supervised(test, 1, 1)\n",
    "    # split into train and test sets\n",
    "    train= reframed_train.values\n",
    "    test=reframed_test.values\n",
    "    # split into input and outputs\n",
    "    train_X, y_train = train[:, :-1], train[:, -1]\n",
    "    test_X, y_test = test[:, :-1], test[:, -1]\n",
    "    # reshape input to be 3D [samples, timesteps, features]\n",
    "    x_train = train_X.reshape((train_X.shape[0], 1, train_X.shape[1]))\n",
    "    x_test = test_X.reshape((test_X.shape[0], 1, test_X.shape[1]))\n",
    "    return x_train,x_test,y_train,y_test"
   ]
  },
  {
   "cell_type": "code",
   "execution_count": 194,
   "id": "42c08c71-e4cf-455a-8e58-f23ab2761789",
   "metadata": {},
   "outputs": [],
   "source": [
    "encoder = LabelEncoder()\n",
    "#combine X train and Y train as train data \n",
    "train_data=pd.DataFrame()\n",
    "train_data[X_train.columns]=X_train\n",
    "train_data[Y_train.columns]=Y_train\n",
    "\n",
    "#combine X test and Y test as test data \n",
    "test_data=pd.DataFrame()\n",
    "test_data[X_test.columns]=X_test\n",
    "test_data[Y_test.columns]=Y_test\n"
   ]
  },
  {
   "cell_type": "code",
   "execution_count": 150,
   "id": "a170e269-2ec2-4ae5-adc7-e5e15208dfbb",
   "metadata": {},
   "outputs": [
    {
     "data": {
      "text/html": [
       "<div>\n",
       "<style scoped>\n",
       "    .dataframe tbody tr th:only-of-type {\n",
       "        vertical-align: middle;\n",
       "    }\n",
       "\n",
       "    .dataframe tbody tr th {\n",
       "        vertical-align: top;\n",
       "    }\n",
       "\n",
       "    .dataframe thead th {\n",
       "        text-align: right;\n",
       "    }\n",
       "</style>\n",
       "<table border=\"1\" class=\"dataframe\">\n",
       "  <thead>\n",
       "    <tr style=\"text-align: right;\">\n",
       "      <th></th>\n",
       "      <th></th>\n",
       "      <th>precip_1</th>\n",
       "      <th>precip_2</th>\n",
       "      <th>precip_5</th>\n",
       "      <th>precip_6</th>\n",
       "      <th>temp_1</th>\n",
       "      <th>temp_2</th>\n",
       "      <th>temp_5</th>\n",
       "      <th>temp_6</th>\n",
       "      <th>yield</th>\n",
       "    </tr>\n",
       "    <tr>\n",
       "      <th>district</th>\n",
       "      <th>year</th>\n",
       "      <th></th>\n",
       "      <th></th>\n",
       "      <th></th>\n",
       "      <th></th>\n",
       "      <th></th>\n",
       "      <th></th>\n",
       "      <th></th>\n",
       "      <th></th>\n",
       "      <th></th>\n",
       "    </tr>\n",
       "  </thead>\n",
       "  <tbody>\n",
       "    <tr>\n",
       "      <th rowspan=\"5\" valign=\"top\">Bagerhat</th>\n",
       "      <th>1993</th>\n",
       "      <td>0.293917</td>\n",
       "      <td>0.245844</td>\n",
       "      <td>0.00274</td>\n",
       "      <td>0.0</td>\n",
       "      <td>0.617647</td>\n",
       "      <td>0.484848</td>\n",
       "      <td>0.681818</td>\n",
       "      <td>0.571429</td>\n",
       "      <td>0.72857</td>\n",
       "    </tr>\n",
       "    <tr>\n",
       "      <th>1994</th>\n",
       "      <td>0.293917</td>\n",
       "      <td>0.245844</td>\n",
       "      <td>0.00274</td>\n",
       "      <td>0.0</td>\n",
       "      <td>0.617647</td>\n",
       "      <td>0.484848</td>\n",
       "      <td>0.681818</td>\n",
       "      <td>0.571429</td>\n",
       "      <td>0.72857</td>\n",
       "    </tr>\n",
       "    <tr>\n",
       "      <th>1995</th>\n",
       "      <td>0.293917</td>\n",
       "      <td>0.245844</td>\n",
       "      <td>0.00274</td>\n",
       "      <td>0.0</td>\n",
       "      <td>0.617647</td>\n",
       "      <td>0.484848</td>\n",
       "      <td>0.681818</td>\n",
       "      <td>0.571429</td>\n",
       "      <td>0.72857</td>\n",
       "    </tr>\n",
       "    <tr>\n",
       "      <th>1996</th>\n",
       "      <td>0.293917</td>\n",
       "      <td>0.245844</td>\n",
       "      <td>0.00274</td>\n",
       "      <td>0.0</td>\n",
       "      <td>0.617647</td>\n",
       "      <td>0.484848</td>\n",
       "      <td>0.681818</td>\n",
       "      <td>0.571429</td>\n",
       "      <td>0.72857</td>\n",
       "    </tr>\n",
       "    <tr>\n",
       "      <th>1997</th>\n",
       "      <td>0.293917</td>\n",
       "      <td>0.245844</td>\n",
       "      <td>0.00274</td>\n",
       "      <td>0.0</td>\n",
       "      <td>0.617647</td>\n",
       "      <td>0.484848</td>\n",
       "      <td>0.681818</td>\n",
       "      <td>0.571429</td>\n",
       "      <td>0.72857</td>\n",
       "    </tr>\n",
       "  </tbody>\n",
       "</table>\n",
       "</div>"
      ],
      "text/plain": [
       "               precip_1  precip_2  precip_5  precip_6    temp_1    temp_2  \\\n",
       "district year                                                               \n",
       "Bagerhat 1993  0.293917  0.245844   0.00274       0.0  0.617647  0.484848   \n",
       "         1994  0.293917  0.245844   0.00274       0.0  0.617647  0.484848   \n",
       "         1995  0.293917  0.245844   0.00274       0.0  0.617647  0.484848   \n",
       "         1996  0.293917  0.245844   0.00274       0.0  0.617647  0.484848   \n",
       "         1997  0.293917  0.245844   0.00274       0.0  0.617647  0.484848   \n",
       "\n",
       "                 temp_5    temp_6    yield  \n",
       "district year                               \n",
       "Bagerhat 1993  0.681818  0.571429  0.72857  \n",
       "         1994  0.681818  0.571429  0.72857  \n",
       "         1995  0.681818  0.571429  0.72857  \n",
       "         1996  0.681818  0.571429  0.72857  \n",
       "         1997  0.681818  0.571429  0.72857  "
      ]
     },
     "execution_count": 150,
     "metadata": {},
     "output_type": "execute_result"
    }
   ],
   "source": [
    "train_data.head()"
   ]
  },
  {
   "cell_type": "code",
   "execution_count": 195,
   "id": "46a1aab4-2a46-41e3-aeb5-49bbb538ed01",
   "metadata": {},
   "outputs": [],
   "source": [
    "# using the function to obtian reshaped x_train,x_test,y_train,y_test\n",
    "x_train,x_test,y_train,y_test=reshape_data(train_data,test_data)"
   ]
  },
  {
   "cell_type": "code",
   "execution_count": 196,
   "id": "94a93419-e809-421b-acc5-d7c27289227b",
   "metadata": {},
   "outputs": [
    {
     "name": "stdout",
     "output_type": "stream",
     "text": [
      "Epoch 1/30\n"
     ]
    },
    {
     "name": "stderr",
     "output_type": "stream",
     "text": [
      "C:\\Users\\88017\\miniconda3\\Lib\\site-packages\\keras\\src\\layers\\rnn\\rnn.py:204: UserWarning: Do not pass an `input_shape`/`input_dim` argument to a layer. When using Sequential models, prefer using an `Input(shape)` object as the first layer in the model instead.\n",
      "  super().__init__(**kwargs)\n"
     ]
    },
    {
     "name": "stdout",
     "output_type": "stream",
     "text": [
      "\u001b[1m34/34\u001b[0m \u001b[32m━━━━━━━━━━━━━━━━━━━━\u001b[0m\u001b[37m\u001b[0m \u001b[1m3s\u001b[0m 3ms/step - loss: 0.6703\n",
      "Epoch 2/30\n",
      "\u001b[1m34/34\u001b[0m \u001b[32m━━━━━━━━━━━━━━━━━━━━\u001b[0m\u001b[37m\u001b[0m \u001b[1m0s\u001b[0m 2ms/step - loss: 0.1960\n",
      "Epoch 3/30\n",
      "\u001b[1m34/34\u001b[0m \u001b[32m━━━━━━━━━━━━━━━━━━━━\u001b[0m\u001b[37m\u001b[0m \u001b[1m0s\u001b[0m 3ms/step - loss: 0.1734\n",
      "Epoch 4/30\n",
      "\u001b[1m34/34\u001b[0m \u001b[32m━━━━━━━━━━━━━━━━━━━━\u001b[0m\u001b[37m\u001b[0m \u001b[1m0s\u001b[0m 3ms/step - loss: 0.1654\n",
      "Epoch 5/30\n",
      "\u001b[1m34/34\u001b[0m \u001b[32m━━━━━━━━━━━━━━━━━━━━\u001b[0m\u001b[37m\u001b[0m \u001b[1m0s\u001b[0m 3ms/step - loss: 0.1586\n",
      "Epoch 6/30\n",
      "\u001b[1m34/34\u001b[0m \u001b[32m━━━━━━━━━━━━━━━━━━━━\u001b[0m\u001b[37m\u001b[0m \u001b[1m0s\u001b[0m 3ms/step - loss: 0.1530\n",
      "Epoch 7/30\n",
      "\u001b[1m34/34\u001b[0m \u001b[32m━━━━━━━━━━━━━━━━━━━━\u001b[0m\u001b[37m\u001b[0m \u001b[1m0s\u001b[0m 3ms/step - loss: 0.1474\n",
      "Epoch 8/30\n",
      "\u001b[1m34/34\u001b[0m \u001b[32m━━━━━━━━━━━━━━━━━━━━\u001b[0m\u001b[37m\u001b[0m \u001b[1m0s\u001b[0m 3ms/step - loss: 0.1420\n",
      "Epoch 9/30\n",
      "\u001b[1m34/34\u001b[0m \u001b[32m━━━━━━━━━━━━━━━━━━━━\u001b[0m\u001b[37m\u001b[0m \u001b[1m0s\u001b[0m 3ms/step - loss: 0.1361\n",
      "Epoch 10/30\n",
      "\u001b[1m34/34\u001b[0m \u001b[32m━━━━━━━━━━━━━━━━━━━━\u001b[0m\u001b[37m\u001b[0m \u001b[1m0s\u001b[0m 3ms/step - loss: 0.1302\n",
      "Epoch 11/30\n",
      "\u001b[1m34/34\u001b[0m \u001b[32m━━━━━━━━━━━━━━━━━━━━\u001b[0m\u001b[37m\u001b[0m \u001b[1m0s\u001b[0m 3ms/step - loss: 0.1247\n",
      "Epoch 12/30\n",
      "\u001b[1m34/34\u001b[0m \u001b[32m━━━━━━━━━━━━━━━━━━━━\u001b[0m\u001b[37m\u001b[0m \u001b[1m0s\u001b[0m 3ms/step - loss: 0.1195\n",
      "Epoch 13/30\n",
      "\u001b[1m34/34\u001b[0m \u001b[32m━━━━━━━━━━━━━━━━━━━━\u001b[0m\u001b[37m\u001b[0m \u001b[1m0s\u001b[0m 3ms/step - loss: 0.1134\n",
      "Epoch 14/30\n",
      "\u001b[1m34/34\u001b[0m \u001b[32m━━━━━━━━━━━━━━━━━━━━\u001b[0m\u001b[37m\u001b[0m \u001b[1m0s\u001b[0m 3ms/step - loss: 0.1082\n",
      "Epoch 15/30\n",
      "\u001b[1m34/34\u001b[0m \u001b[32m━━━━━━━━━━━━━━━━━━━━\u001b[0m\u001b[37m\u001b[0m \u001b[1m0s\u001b[0m 2ms/step - loss: 0.1033\n",
      "Epoch 16/30\n",
      "\u001b[1m34/34\u001b[0m \u001b[32m━━━━━━━━━━━━━━━━━━━━\u001b[0m\u001b[37m\u001b[0m \u001b[1m0s\u001b[0m 3ms/step - loss: 0.0993\n",
      "Epoch 17/30\n",
      "\u001b[1m34/34\u001b[0m \u001b[32m━━━━━━━━━━━━━━━━━━━━\u001b[0m\u001b[37m\u001b[0m \u001b[1m0s\u001b[0m 3ms/step - loss: 0.0946\n",
      "Epoch 18/30\n",
      "\u001b[1m34/34\u001b[0m \u001b[32m━━━━━━━━━━━━━━━━━━━━\u001b[0m\u001b[37m\u001b[0m \u001b[1m0s\u001b[0m 3ms/step - loss: 0.0921\n",
      "Epoch 19/30\n",
      "\u001b[1m34/34\u001b[0m \u001b[32m━━━━━━━━━━━━━━━━━━━━\u001b[0m\u001b[37m\u001b[0m \u001b[1m0s\u001b[0m 3ms/step - loss: 0.0880\n",
      "Epoch 20/30\n",
      "\u001b[1m34/34\u001b[0m \u001b[32m━━━━━━━━━━━━━━━━━━━━\u001b[0m\u001b[37m\u001b[0m \u001b[1m0s\u001b[0m 3ms/step - loss: 0.0858\n",
      "Epoch 21/30\n",
      "\u001b[1m34/34\u001b[0m \u001b[32m━━━━━━━━━━━━━━━━━━━━\u001b[0m\u001b[37m\u001b[0m \u001b[1m0s\u001b[0m 3ms/step - loss: 0.0828\n",
      "Epoch 22/30\n",
      "\u001b[1m34/34\u001b[0m \u001b[32m━━━━━━━━━━━━━━━━━━━━\u001b[0m\u001b[37m\u001b[0m \u001b[1m0s\u001b[0m 3ms/step - loss: 0.0803\n",
      "Epoch 23/30\n",
      "\u001b[1m34/34\u001b[0m \u001b[32m━━━━━━━━━━━━━━━━━━━━\u001b[0m\u001b[37m\u001b[0m \u001b[1m0s\u001b[0m 3ms/step - loss: 0.0787\n",
      "Epoch 24/30\n",
      "\u001b[1m34/34\u001b[0m \u001b[32m━━━━━━━━━━━━━━━━━━━━\u001b[0m\u001b[37m\u001b[0m \u001b[1m0s\u001b[0m 3ms/step - loss: 0.0769\n",
      "Epoch 25/30\n",
      "\u001b[1m34/34\u001b[0m \u001b[32m━━━━━━━━━━━━━━━━━━━━\u001b[0m\u001b[37m\u001b[0m \u001b[1m0s\u001b[0m 3ms/step - loss: 0.0751\n",
      "Epoch 26/30\n",
      "\u001b[1m34/34\u001b[0m \u001b[32m━━━━━━━━━━━━━━━━━━━━\u001b[0m\u001b[37m\u001b[0m \u001b[1m0s\u001b[0m 3ms/step - loss: 0.0759\n",
      "Epoch 27/30\n",
      "\u001b[1m34/34\u001b[0m \u001b[32m━━━━━━━━━━━━━━━━━━━━\u001b[0m\u001b[37m\u001b[0m \u001b[1m0s\u001b[0m 3ms/step - loss: 0.0748\n",
      "Epoch 28/30\n",
      "\u001b[1m34/34\u001b[0m \u001b[32m━━━━━━━━━━━━━━━━━━━━\u001b[0m\u001b[37m\u001b[0m \u001b[1m0s\u001b[0m 3ms/step - loss: 0.0743\n",
      "Epoch 29/30\n",
      "\u001b[1m34/34\u001b[0m \u001b[32m━━━━━━━━━━━━━━━━━━━━\u001b[0m\u001b[37m\u001b[0m \u001b[1m0s\u001b[0m 3ms/step - loss: 0.0725\n",
      "Epoch 30/30\n",
      "\u001b[1m34/34\u001b[0m \u001b[32m━━━━━━━━━━━━━━━━━━━━\u001b[0m\u001b[37m\u001b[0m \u001b[1m0s\u001b[0m 3ms/step - loss: 0.0716\n"
     ]
    }
   ],
   "source": [
    "# design network for confirmed cases data \n",
    "model = Sequential()\n",
    "model.add(LSTM(60, activation='relu',input_shape=(x_train.shape[1], x_train.shape[2])))\n",
    "\n",
    "model.add(Dense(1))\n",
    "model.compile(loss='mae', optimizer='adam')\n",
    "# fit network\n",
    "history = model.fit(x_train, y_train, epochs=30, batch_size=50,  verbose=1, shuffle=False)"
   ]
  },
  {
   "cell_type": "code",
   "execution_count": 197,
   "id": "dd5e7a8a-4af7-435d-a722-b7d4de091e53",
   "metadata": {},
   "outputs": [
    {
     "data": {
      "image/png": "[encoded data removed]",
      "text/plain": [
       "<Figure size 640x480 with 1 Axes>"
      ]
     },
     "metadata": {},
     "output_type": "display_data"
    }
   ],
   "source": [
    "# plot history\n",
    "plt.plot(history.history['loss'], label='Loss')\n",
    "plt.legend()\n",
    "plt.show()"
   ]
  },
  {
   "cell_type": "markdown",
   "id": "5bc6d3e9-07cf-4568-9392-66b7e2193697",
   "metadata": {},
   "source": [
    "# Make prediction"
   ]
  },
  {
   "cell_type": "code",
   "execution_count": 198,
   "id": "bbaffb75-ae24-4310-ad56-bc46051d1504",
   "metadata": {},
   "outputs": [
    {
     "name": "stdout",
     "output_type": "stream",
     "text": [
      "\u001b[1m15/15\u001b[0m \u001b[32m━━━━━━━━━━━━━━━━━━━━\u001b[0m\u001b[37m\u001b[0m \u001b[1m0s\u001b[0m 16ms/step\n"
     ]
    },
    {
     "data": {
      "text/plain": [
       "((452, 1), (452,))"
      ]
     },
     "execution_count": 198,
     "metadata": {},
     "output_type": "execute_result"
    }
   ],
   "source": [
    "# make a prediction\n",
    "y_test_pre=model.predict(x_test)\n",
    "# check length\n",
    "y_test_pre.shape,y_test.shape"
   ]
  },
  {
   "cell_type": "markdown",
   "id": "e5cfff23-7665-482a-8708-c5e0d8ba9242",
   "metadata": {},
   "source": [
    "# Model Evaluation"
   ]
  },
  {
   "cell_type": "code",
   "execution_count": 235,
   "id": "de76336e-2117-4ece-ac58-15cb4684912a",
   "metadata": {},
   "outputs": [
    {
     "data": {
      "text/html": [
       "<div>\n",
       "<style scoped>\n",
       "    .dataframe tbody tr th:only-of-type {\n",
       "        vertical-align: middle;\n",
       "    }\n",
       "\n",
       "    .dataframe tbody tr th {\n",
       "        vertical-align: top;\n",
       "    }\n",
       "\n",
       "    .dataframe thead th {\n",
       "        text-align: right;\n",
       "    }\n",
       "</style>\n",
       "<table border=\"1\" class=\"dataframe\">\n",
       "  <thead>\n",
       "    <tr style=\"text-align: right;\">\n",
       "      <th></th>\n",
       "      <th>year</th>\n",
       "      <th>Prediction</th>\n",
       "      <th>Actual Values</th>\n",
       "    </tr>\n",
       "  </thead>\n",
       "  <tbody>\n",
       "    <tr>\n",
       "      <th>1</th>\n",
       "      <td>2017</td>\n",
       "      <td>0.775761</td>\n",
       "      <td>0.725680</td>\n",
       "    </tr>\n",
       "    <tr>\n",
       "      <th>2</th>\n",
       "      <td>2018</td>\n",
       "      <td>0.591367</td>\n",
       "      <td>0.683724</td>\n",
       "    </tr>\n",
       "    <tr>\n",
       "      <th>3</th>\n",
       "      <td>2019</td>\n",
       "      <td>0.924107</td>\n",
       "      <td>0.817027</td>\n",
       "    </tr>\n",
       "    <tr>\n",
       "      <th>4</th>\n",
       "      <td>2020</td>\n",
       "      <td>0.830668</td>\n",
       "      <td>0.851027</td>\n",
       "    </tr>\n",
       "    <tr>\n",
       "      <th>5</th>\n",
       "      <td>2021</td>\n",
       "      <td>0.832119</td>\n",
       "      <td>0.894754</td>\n",
       "    </tr>\n",
       "  </tbody>\n",
       "</table>\n",
       "</div>"
      ],
      "text/plain": [
       "   year  Prediction  Actual Values\n",
       "1  2017    0.775761       0.725680\n",
       "2  2018    0.591367       0.683724\n",
       "3  2019    0.924107       0.817027\n",
       "4  2020    0.830668       0.851027\n",
       "5  2021    0.832119       0.894754"
      ]
     },
     "execution_count": 235,
     "metadata": {},
     "output_type": "execute_result"
    }
   ],
   "source": [
    "pa=pd.DataFrame()\n",
    "pa['year']=X_test.reset_index().year.iloc[1:-1]\n",
    "pa['Prediction']=[i[0] for i in y_test_pre][1:] \n",
    "pa['Actual Values']=y_test[:-1]\n",
    "pa.head()"
   ]
  },
  {
   "cell_type": "code",
   "execution_count": 236,
   "id": "38e1732f-e7cc-4375-87cb-f118c9cf38c6",
   "metadata": {},
   "outputs": [
    {
     "name": "stdout",
     "output_type": "stream",
     "text": [
      "1      0.725680\n",
      "2      0.683724\n",
      "3      0.817027\n",
      "4      0.851027\n",
      "5      0.894754\n",
      "         ...   \n",
      "447    1.148528\n",
      "448    1.138931\n",
      "449    1.159884\n",
      "450    1.170860\n",
      "451    1.083696\n",
      "Name: Actual Values, Length: 451, dtype: float64\n"
     ]
    }
   ],
   "source": [
    "\n",
    "# Assuming 'pa' is your DataFrame\n",
    "actual_values = pa['Actual Values']\n",
    "print(actual_values)\n"
   ]
  },
  {
   "cell_type": "code",
   "execution_count": 240,
   "id": "618886d8-f353-448e-8b73-6aac6e62ae9a",
   "metadata": {},
   "outputs": [
    {
     "name": "stdout",
     "output_type": "stream",
     "text": [
      "1      0.775761\n",
      "2      0.591367\n",
      "3      0.924107\n",
      "4      0.830668\n",
      "5      0.832119\n",
      "         ...   \n",
      "447    1.113195\n",
      "448    1.180247\n",
      "449    1.202515\n",
      "450    1.221718\n",
      "451    1.095318\n",
      "Name: Prediction, Length: 451, dtype: float32\n"
     ]
    }
   ],
   "source": [
    "# Print the Prediction column\n",
    "prediction = pa['Prediction']\n",
    "\n",
    "print(predictions)\n"
   ]
  },
  {
   "cell_type": "code",
   "execution_count": 200,
   "id": "1a610540-4df1-4b9f-a58c-e5818985d873",
   "metadata": {},
   "outputs": [
    {
     "data": {
      "text/plain": [
       "<matplotlib.legend.Legend at 0x1e7d8f5fad0>"
      ]
     },
     "execution_count": 200,
     "metadata": {},
     "output_type": "execute_result"
    },
    {
     "data": {
      "image/png": "[encoded data removed]",
      "text/plain": [
       "<Figure size 2000x1000 with 1 Axes>"
      ]
     },
     "metadata": {},
     "output_type": "display_data"
    }
   ],
   "source": [
    "plt.figure(figsize=(20,10))\n",
    "pa.groupby('year')['Prediction'].sum().plot(kind='line',label='prediction',color='red',alpha=1)\n",
    "pa.groupby(\"year\")['Actual Values'].sum().plot(kind='line',label='actual values',color='blue',alpha=0.4)\n",
    "plt.xticks(rotation=90,size=20)\n",
    "plt.yticks(size=20)\n",
    "\n",
    "plt.ylabel('Yield',fontsize=20)\n",
    "plt.xlabel('year',fontsize=20)\n",
    "plt.title('Predicted Values VS Acutal Values - Rice Yield',fontsize=20)\n",
    "plt.legend()"
   ]
  },
  {
   "cell_type": "markdown",
   "id": "d632eecc-a4a2-4cd3-9d23-4857d08438b8",
   "metadata": {},
   "source": [
    "# Regression Evaluation"
   ]
  },
  {
   "cell_type": "markdown",
   "id": "daf6124c-7136-4920-a3dd-c610312368a0",
   "metadata": {},
   "source": [
    "# y_test[:-1], [i[0] for i in y_test_pre][1:]\n",
    "\n",
    "It calculates the Mean Absolute Percentage Error between the actual values (excluding the last one) and \n",
    "the predicted values (excluding the first one)."
   ]
  },
  {
   "cell_type": "code",
   "execution_count": 201,
   "id": "11b4f548-c039-4165-a1c6-814dfffdd57f",
   "metadata": {},
   "outputs": [],
   "source": [
    "# Assuming y_test and y_test_pre are defined, and they contain the actual and predicted values\n",
    "predicted_values = [i[0] for i in y_test_pre][1:]\n"
   ]
  },
  {
   "cell_type": "code",
   "execution_count": 202,
   "id": "142a148c-6a89-4e8d-b157-f5b6c930da58",
   "metadata": {},
   "outputs": [],
   "source": [
    "from sklearn.metrics import r2_score, mean_squared_error, mean_absolute_error"
   ]
  },
  {
   "cell_type": "markdown",
   "id": "04e486d5-bdb2-4eda-8f6b-a705cd17e4ed",
   "metadata": {},
   "source": [
    "# R-squared \n"
   ]
  },
  {
   "cell_type": "code",
   "execution_count": 203,
   "id": "982bf24c-65df-4c7c-9ea3-4055d5452b2d",
   "metadata": {},
   "outputs": [],
   "source": [
    "from sklearn.metrics import r2_score\n",
    "\n",
    "def R_squared(actual, prediction):\n",
    "    r_squared = r2_score(actual, prediction)\n",
    "    return r_squared\n"
   ]
  },
  {
   "cell_type": "code",
   "execution_count": 209,
   "id": "6c72b3bb-aab3-4eb9-910b-1e6987cce8f6",
   "metadata": {},
   "outputs": [
    {
     "name": "stdout",
     "output_type": "stream",
     "text": [
      "R²: 0.9755153659637718\n"
     ]
    }
   ],
   "source": [
    "# Calculating R-squared\n",
    "print(\"R²:\", R_squared(y_test[:-1], [i[0] for i in y_test_pre][1:]))"
   ]
  },
  {
   "cell_type": "code",
   "execution_count": 210,
   "id": "50ff8854-7547-4857-807d-df8e009302fe",
   "metadata": {},
   "outputs": [],
   "source": [
    "def R_Squared(actual, prediction):\n",
    "    actual_mean = np.mean(actual)\n",
    "    ss_total = np.sum((np.array(actual) - actual_mean)**2)  # Total sum of squares\n",
    "    ss_residual = np.sum((np.array(actual) - np.array(prediction))**2)  # Residual sum of squares\n",
    "    r_squared = 1 - (ss_residual / ss_total)\n",
    "    return r_squared"
   ]
  },
  {
   "cell_type": "code",
   "execution_count": 211,
   "id": "06717371-a7b9-4dae-a3a1-1736d0d4d452",
   "metadata": {},
   "outputs": [
    {
     "name": "stdout",
     "output_type": "stream",
     "text": [
      "R²: 0.9755153659637718\n"
     ]
    }
   ],
   "source": [
    "# Calculating R-squared\n",
    "print(\"R²:\", R_Squared(y_test[:-1], [i[0] for i in y_test_pre][1:]))"
   ]
  },
  {
   "cell_type": "markdown",
   "id": "1beb0beb-ad6b-43b1-a35d-8dcbf30ff552",
   "metadata": {},
   "source": [
    "# Mean squared error"
   ]
  },
  {
   "cell_type": "code",
   "execution_count": 212,
   "id": "eff90ab6-2cd5-4c32-8553-24be85738c70",
   "metadata": {},
   "outputs": [],
   "source": [
    "def MSE(actual, prediction):\n",
    "    mse = np.mean((np.array(actual) - np.array(prediction))**2)\n",
    "    return mse"
   ]
  },
  {
   "cell_type": "code",
   "execution_count": 213,
   "id": "c4f578a4-e746-4a49-ac74-bd683309202d",
   "metadata": {},
   "outputs": [
    {
     "name": "stdout",
     "output_type": "stream",
     "text": [
      "MSE: 0.008288056725584643\n"
     ]
    }
   ],
   "source": [
    "# Calculating Mean Squared Error\n",
    "print(\"MSE:\", MSE(y_test[:-1], predicted_values))"
   ]
  },
  {
   "cell_type": "code",
   "execution_count": 214,
   "id": "1db7f9f5-2c82-4412-8574-8e85479e7520",
   "metadata": {},
   "outputs": [
    {
     "name": "stdout",
     "output_type": "stream",
     "text": [
      "MSE: 0.008288056725584643\n"
     ]
    }
   ],
   "source": [
    "print(\"MSE:\", MSE(y_test[:-1], [i[0] for i in y_test_pre][1:]))"
   ]
  },
  {
   "cell_type": "code",
   "execution_count": 215,
   "id": "3194a968-47bb-4ac2-a628-821ddd2452eb",
   "metadata": {},
   "outputs": [],
   "source": [
    "def MSE(actual, prediction):\n",
    "    return mean_squared_error(actual, prediction)"
   ]
  },
  {
   "cell_type": "code",
   "execution_count": 216,
   "id": "a95941c2-0bd1-4c90-8ed5-88144c0bc926",
   "metadata": {},
   "outputs": [
    {
     "name": "stdout",
     "output_type": "stream",
     "text": [
      "MSE: 0.008288056725584643\n"
     ]
    }
   ],
   "source": [
    "print(\"MSE:\", MSE(y_test[:-1], [i[0] for i in y_test_pre][1:]))"
   ]
  },
  {
   "cell_type": "code",
   "execution_count": 217,
   "id": "572a7c2f-06d0-46c9-a39d-c83d489a19c3",
   "metadata": {},
   "outputs": [],
   "source": [
    "def MSE(actual, prediction):\n",
    "    mse = mean_squared_error(actual, prediction)\n",
    "    return mse"
   ]
  },
  {
   "cell_type": "code",
   "execution_count": 218,
   "id": "7b4835dd-bd74-42d9-bd95-1c61c9cffad3",
   "metadata": {},
   "outputs": [
    {
     "name": "stdout",
     "output_type": "stream",
     "text": [
      "MSE: 0.008288056725584643\n"
     ]
    }
   ],
   "source": [
    "# Calculating Mean Squared Error\n",
    "print(\"MSE:\", MSE(y_test[:-1], predicted_values))"
   ]
  },
  {
   "cell_type": "markdown",
   "id": "44d55d30-50a5-4a72-9219-7847b9542f13",
   "metadata": {},
   "source": [
    "# Root mean squared error "
   ]
  },
  {
   "cell_type": "code",
   "execution_count": 219,
   "id": "04500e7b-b27c-4c1a-8cd8-24d3ca0c7789",
   "metadata": {},
   "outputs": [],
   "source": [
    "def RMSE(actual,prediction):\n",
    "    rmse = np.sqrt(mean_squared_error(actual,prediction))\n",
    "    return rmse"
   ]
  },
  {
   "cell_type": "code",
   "execution_count": 220,
   "id": "3e25610a-7402-4134-9c4a-89857a72f9ec",
   "metadata": {},
   "outputs": [
    {
     "name": "stdout",
     "output_type": "stream",
     "text": [
      "0.09103876496078274\n"
     ]
    }
   ],
   "source": [
    "print(RMSE(y_test[:-1],[i[0] for i in y_test_pre][1:]))"
   ]
  },
  {
   "cell_type": "code",
   "execution_count": 231,
   "id": "cc609c82-f45d-43a1-aa24-41b84d32f94e",
   "metadata": {},
   "outputs": [
    {
     "name": "stdout",
     "output_type": "stream",
     "text": [
      "RMSE: 0.09103876496078274\n"
     ]
    }
   ],
   "source": [
    "from sklearn.metrics import mean_squared_error\n",
    "import numpy as np\n",
    "\n",
    "def RMSE(actual, prediction):\n",
    "    rmse = np.sqrt(mean_squared_error(actual, prediction))\n",
    "    return rmse\n",
    "\n",
    "# Example usage with your dataset:\n",
    "rmse_value = RMSE(pa['Actual Values'], pa['Prediction'])\n",
    "print(f\"RMSE: {rmse_value}\")\n"
   ]
  },
  {
   "cell_type": "code",
   "execution_count": 222,
   "id": "0bdc8d2d-0075-404b-8c8f-75a4fbc14b24",
   "metadata": {},
   "outputs": [],
   "source": [
    "def RMSE(actual, prediction):\n",
    "    return np.sqrt(mean_squared_error(actual, prediction))"
   ]
  },
  {
   "cell_type": "code",
   "execution_count": 223,
   "id": "872a47a5-1c2c-4369-a68c-38a315da7c53",
   "metadata": {},
   "outputs": [
    {
     "name": "stdout",
     "output_type": "stream",
     "text": [
      "RMSE: 0.09103876496078274\n"
     ]
    }
   ],
   "source": [
    "print(\"RMSE:\", RMSE(y_test[:-1], [i[0] for i in y_test_pre][1:]))"
   ]
  },
  {
   "cell_type": "markdown",
   "id": "2f8acee6-7ace-42ea-88c2-840df4dee2fd",
   "metadata": {},
   "source": [
    "# Mean absolute error "
   ]
  },
  {
   "cell_type": "code",
   "execution_count": 224,
   "id": "1faaae39-f264-453e-bc74-b54382f8b6e9",
   "metadata": {},
   "outputs": [],
   "source": [
    "def MAE(actual, prediction):\n",
    "    return mean_absolute_error(actual, prediction)"
   ]
  },
  {
   "cell_type": "code",
   "execution_count": 225,
   "id": "adc6cdd9-0c60-4217-a3e7-fba376b4e7aa",
   "metadata": {},
   "outputs": [
    {
     "name": "stdout",
     "output_type": "stream",
     "text": [
      "MAE: 0.04797878577756578\n"
     ]
    }
   ],
   "source": [
    "print(\"MAE:\", MAE(y_test[:-1], [i[0] for i in y_test_pre][1:]))"
   ]
  },
  {
   "cell_type": "code",
   "execution_count": 226,
   "id": "c42bcd08-8904-4394-bebf-291f6b7c84fa",
   "metadata": {},
   "outputs": [
    {
     "name": "stdout",
     "output_type": "stream",
     "text": [
      "MAE: 0.04797878577756578\n"
     ]
    }
   ],
   "source": [
    "import numpy as np\n",
    "\n",
    "def MAE(actual, prediction):\n",
    "    return np.mean(np.abs(np.array(actual) - np.array(prediction)))\n",
    "\n",
    "# Example usage\n",
    "print(\"MAE:\", MAE(y_test[:-1], [i[0] for i in y_test_pre][1:]))\n"
   ]
  },
  {
   "cell_type": "markdown",
   "id": "b703c763-66cb-4901-8279-1796f2989399",
   "metadata": {},
   "source": [
    "# Mean Absolute Percentage Error (MAPE) "
   ]
  },
  {
   "cell_type": "code",
   "execution_count": 227,
   "id": "a2a11d29-731d-4cef-b82b-ddabe80decf4",
   "metadata": {},
   "outputs": [
    {
     "name": "stdout",
     "output_type": "stream",
     "text": [
      "MAPE: 5.125860958079382\n"
     ]
    }
   ],
   "source": [
    "import numpy as np\n",
    "\n",
    "def MAPE(actual, prediction):\n",
    "    actual = np.array(actual)\n",
    "    prediction = np.array(prediction)\n",
    "    return np.mean(np.abs((actual - prediction) / actual)) * 100\n",
    "\n",
    "# Example usage\n",
    "print(\"MAPE:\", MAPE(y_test[:-1], [i[0] for i in y_test_pre][1:]))\n"
   ]
  },
  {
   "cell_type": "code",
   "execution_count": 228,
   "id": "f1dcf4ec-a5fb-491b-8314-2497ad8c0772",
   "metadata": {},
   "outputs": [
    {
     "name": "stdout",
     "output_type": "stream",
     "text": [
      "MAPE: 5.125860958079382\n"
     ]
    }
   ],
   "source": [
    "def MAPE(actual, prediction):\n",
    "    return np.mean([abs((a - p) / a) for a, p in zip(actual, prediction)]) * 100\n",
    "\n",
    "# Example usage\n",
    "print(\"MAPE:\", MAPE(y_test[:-1], [i[0] for i in y_test_pre][1:]))\n"
   ]
  },
  {
   "cell_type": "markdown",
   "id": "25222368-5c61-4bba-9d24-b4f2194d079d",
   "metadata": {},
   "source": [
    "# All regression in one box"
   ]
  },
  {
   "cell_type": "code",
   "execution_count": 232,
   "id": "b66489a7-1f9a-4f79-9753-b464b1e50b44",
   "metadata": {},
   "outputs": [
    {
     "name": "stdout",
     "output_type": "stream",
     "text": [
      "R²: 0.9755153659637718\n",
      "MSE: 0.008288056725584643\n",
      "RMSE: 0.09103876496078274\n",
      "MAE: 0.04797878577756578\n",
      "MAPE: 5.125860958079382\n"
     ]
    }
   ],
   "source": [
    "from sklearn.metrics import r2_score, mean_squared_error, mean_absolute_error\n",
    "import numpy as np\n",
    "\n",
    "def R_squared(actual, prediction):\n",
    "    return r2_score(actual, prediction)\n",
    "\n",
    "def MSE(actual, prediction):\n",
    "    return mean_squared_error(actual, prediction)\n",
    "\n",
    "def RMSE(actual, prediction):\n",
    "    return np.sqrt(mean_squared_error(actual, prediction))\n",
    "\n",
    "def MAE(actual, prediction):\n",
    "    return mean_absolute_error(actual, prediction)\n",
    "    \n",
    "def MAPE(actual, prediction):\n",
    "    return np.mean([abs((a - p) / a) for a, p in zip(actual, prediction)]) * 100\n",
    "\n",
    "# Assuming y_test and y_test_pre are defined, and they contain the actual and predicted values\n",
    "# Calculating R², MSE, RMSE, and MAE directly\n",
    "print(\"R²:\", R_squared(y_test[:-1], [i[0] for i in y_test_pre][1:]))\n",
    "print(\"MSE:\", MSE(y_test[:-1], [i[0] for i in y_test_pre][1:]))\n",
    "print(\"RMSE:\", RMSE(y_test[:-1], [i[0] for i in y_test_pre][1:]))\n",
    "print(\"MAE:\", MAE(y_test[:-1], [i[0] for i in y_test_pre][1:]))\n",
    "print(\"MAPE:\", MAPE(y_test[:-1], [i[0] for i in y_test_pre][1:]))\n"
   ]
  },
  {
   "cell_type": "code",
   "execution_count": 241,
   "id": "bab66c57-e933-45a9-af1e-f1d4b1015c78",
   "metadata": {},
   "outputs": [
    {
     "name": "stdout",
     "output_type": "stream",
     "text": [
      "0.008288056725584643\n"
     ]
    }
   ],
   "source": [
    "from sklearn.metrics import mean_squared_error\n",
    "mse = mean_squared_error(actual_values, prediction)\n",
    "print(mse)"
   ]
  },
  {
   "cell_type": "markdown",
   "id": "facf8375-f3ae-460f-a1d6-435a51bfe1aa",
   "metadata": {},
   "source": [
    "# MAPE another method"
   ]
  },
  {
   "cell_type": "code",
   "execution_count": 242,
   "id": "946c2f24-33cd-4017-918f-599a02840e44",
   "metadata": {},
   "outputs": [
    {
     "name": "stdout",
     "output_type": "stream",
     "text": [
      "\n",
      "DataFrame with Absolute Percentage Error:\n",
      "     year  Prediction  Actual Values  absolute_percentage_error\n",
      "1    2017    0.775761       0.725680                   6.901306\n",
      "2    2018    0.591367       0.683724                  13.507911\n",
      "3    2019    0.924107       0.817027                  13.106070\n",
      "4    2020    0.830668       0.851027                   2.392358\n",
      "5    2021    0.832119       0.894754                   7.000230\n",
      "..    ...         ...            ...                        ...\n",
      "447  2016    1.113195       1.148528                   3.076340\n",
      "448  2017    1.180247       1.138931                   3.627613\n",
      "449  2018    1.202515       1.159884                   3.675421\n",
      "450  2019    1.221718       1.170860                   4.343658\n",
      "451  2020    1.095318       1.083696                   1.072428\n",
      "\n",
      "[451 rows x 4 columns]\n",
      "\n",
      "Mean Absolute Percentage Error (MAPE): 5.13%\n"
     ]
    }
   ],
   "source": [
    "# Calculate MAPE\n",
    "pa['absolute_percentage_error'] = abs(pa['Actual Values'] - pa['Prediction']) / pa['Actual Values'] * 100\n",
    "mape = pa['absolute_percentage_error'].mean()\n",
    "\n",
    "# Display the DataFrame with absolute percentage error and MAPE\n",
    "print(\"\\nDataFrame with Absolute Percentage Error:\")\n",
    "print(pa)\n",
    "\n",
    "print(f\"\\nMean Absolute Percentage Error (MAPE): {mape:.2f}%\")"
   ]
  },
  {
   "cell_type": "code",
   "execution_count": 251,
   "id": "f9c17c39-a274-4c3e-8709-dccb371dff3f",
   "metadata": {},
   "outputs": [
    {
     "name": "stdout",
     "output_type": "stream",
     "text": [
      "DataFrame (first few rows):\n",
      "   year  Prediction  Actual Values\n",
      "1  2017    0.775761       0.725680\n",
      "2  2018    0.591367       0.683724\n",
      "3  2019    0.924107       0.817027\n",
      "4  2020    0.830668       0.851027\n",
      "5  2021    0.832119       0.894754\n",
      "   year  Prediction  Actual Values  absolute_percentage_error\n",
      "1  2017    0.775761       0.725680                   6.901306\n",
      "2  2018    0.591367       0.683724                  13.507911\n",
      "3  2019    0.924107       0.817027                  13.106070\n",
      "4  2020    0.830668       0.851027                   2.392358\n",
      "\n",
      "Mean Absolute Percentage Error (MAPE): 5.13%\n"
     ]
    }
   ],
   "source": [
    "import pandas as pd\n",
    "\n",
    "# Assuming X_test, y_test_pre, and y_test are defined elsewhere\n",
    "pa = pd.DataFrame()\n",
    "pa['year'] = X_test.reset_index().year.iloc[1:-1]  # Extract years from X_test\n",
    "pa['Prediction'] = [i[0] for i in y_test_pre][1:]   # Extract predictions\n",
    "pa['Actual Values'] = y_test[:-1]                   # Extract actual values\n",
    "\n",
    "# Display the DataFrame\n",
    "print(\"DataFrame (first few rows):\")\n",
    "print(pa.head())\n",
    "\n",
    "# Calculate MAPE\n",
    "pa['absolute_percentage_error'] = abs(pa['Actual Values'] - pa['Prediction']) / pa['Actual Values'] * 100\n",
    "mape = pa['absolute_percentage_error'].mean()\n",
    "\n",
    "# Display the DataFrame with absolute percentage error and MAPE\n",
    "\n",
    "print(pa.head(4))\n",
    "\n",
    "print(f\"\\nMean Absolute Percentage Error (MAPE): {mape:.2f}%\")\n"
   ]
  },
  {
   "cell_type": "markdown",
   "id": "faa06516-38de-4b98-b2e3-5a978a7951bf",
   "metadata": {},
   "source": [
    "# Regression on total value (actual,prediction)"
   ]
  },
  {
   "cell_type": "code",
   "execution_count": null,
   "id": "27d1ccec-ea91-48bf-852f-19c10e2b2715",
   "metadata": {},
   "outputs": [],
   "source": [
    "from sklearn.metrics import r2_score, mean_squared_error, mean_absolute_error\n",
    "import numpy as np\n",
    "\n",
    "def R_squared(actual, prediction):\n",
    "    return r2_score(actual, prediction)\n",
    "\n",
    "def MSE(actual, prediction):\n",
    "    return mean_squared_error(actual, prediction)\n",
    "\n",
    "def RMSE(actual, prediction):\n",
    "    return np.sqrt(mean_squared_error(actual, prediction))\n",
    "\n",
    "def MAE(actual, prediction):\n",
    "    return mean_absolute_error(actual, prediction)\n",
    "    \n",
    "def MAPE(actual, prediction):\n",
    "    return np.mean([abs((a - p) / a) for a, p in zip(actual, prediction)]) * 100\n",
    "\n"
   ]
  },
  {
   "cell_type": "code",
   "execution_count": 256,
   "id": "7c94354b-41f8-4df0-872c-75b07cc2adcd",
   "metadata": {},
   "outputs": [
    {
     "name": "stdout",
     "output_type": "stream",
     "text": [
      "R²: 0.9755\n",
      "MSE: 0.0083\n",
      "RMSE: 0.0910\n",
      "MAE: 0.0480\n",
      "MAPE: 5.1259\n"
     ]
    }
   ],
   "source": [
    "# Assuming R_squared, MSE, RMSE, MAE, MAPE functions are defined elsewhere\n",
    "import numpy as np\n",
    "\n",
    "# Prepare actual and predicted values\n",
    "#actual = y_test[:-1] #It calculates the Mean Absolute Percentage Error between the actual values (excluding the last one) and \n",
    "#prediction =  [i[0] for i in y_test_pre][1:]  #the predicted values (excluding the first one)\n",
    "\n",
    "\n",
    "#actual = y_test[:-1]  # Actual values\n",
    "#prediction = [i[0] for i in y_test_pre][1:]  # Predicted values\n",
    "\n",
    "# Define a dictionary of metric names and corresponding functions\n",
    "metrics = {\n",
    "    \"R²\": R_squared,\n",
    "    \"MSE\": MSE,\n",
    "    \"RMSE\": RMSE,\n",
    "    \"MAE\": MAE,\n",
    "    \"MAPE\": MAPE\n",
    "}\n",
    "\n",
    "# Iterate through the metrics and print their values\n",
    "for metric_name, metric_function in metrics.items():\n",
    "    result = metric_function(actual_values, prediction)\n",
    "    print(f\"{metric_name}: {result:.4f}\")\n"
   ]
  },
  {
   "cell_type": "markdown",
   "id": "87664000-5727-430c-b293-6327b22ba8b8",
   "metadata": {},
   "source": [
    "# Comment on the Metrics:\n",
    "R² (0.9755): This value is close to 1, which indicates that the model explains 97.55% of the variance in the data, suggesting a very good fit. This means that 97.55% of the predicted values align with the actual values in terms of the regression line fit condition. The closer the R² value is to 100%, the more closely the predictions match the actual data points.\n",
    "\n",
    "MSE (0.0083): A low Mean Squared Error indicates that the average squared difference between predicted and actual values is quite small. This small error further supports the idea that the regression line fits the data well, contributing to high accuracy in the predictions.\n",
    "\n",
    "RMSE (0.0910): Root Mean Squared Error shows the prediction error in the same units as the target variable. A lower RMSE indicates better model performance, and here the small value of 0.0910 demonstrates that the regression line closely follows the actual data points.\n",
    "\n",
    "MAE (0.0480): The average absolute error between predictions and actual values is 0.048, indicating small errors on average. This low error suggests that, on average, the predicted values are very close to the actual values, showing a good fit with the regression line.\n",
    "\n",
    "MAPE (5.1259): A MAPE of around 5.13% indicates that, on average, the predictions are within 5.13% of the actual values. This relatively low percentage of error aligns with the high R² value and the close fit of the regression line to the data, confirming that the model provides a strong overall fit.\n",
    "\n"
   ]
  }
 ],
 "metadata": {
  "kernelspec": {
   "display_name": "Python 3 (ipykernel)",
   "language": "python",
   "name": "python3"
  },
  "language_info": {
   "codemirror_mode": {
    "name": "ipython",
    "version": 3
   },
   "file_extension": ".py",
   "mimetype": "text/x-python",
   "name": "python",
   "nbconvert_exporter": "python",
   "pygments_lexer": "ipython3",
   "version": "3.12.4"
  }
 },
 "nbformat": 4,
 "nbformat_minor": 5
}
